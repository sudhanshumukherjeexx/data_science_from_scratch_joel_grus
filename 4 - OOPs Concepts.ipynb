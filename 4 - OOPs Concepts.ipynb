{
 "cells": [
  {
   "cell_type": "markdown",
   "id": "10788268",
   "metadata": {},
   "source": [
    "## Note : Python supports all kinds of programming. Object Oriented Programming, functional programming and Procedural oriented programming.\n",
    "\n",
    "### Object-Oriented Programming\n",
    "- Python is object oriented language\n",
    "- Everything in python is an object with its properties and methods.\n",
    "- Class is like a building block for that object constructor.\n",
    "\n",
    "### Points to Remember\n",
    "- Every object will have some attributes and every object will have some behaviour. \n",
    "- When we say attributes, it means Data and some properties. for ex - Height, age, name.\n",
    "- When we say behaviour, it usually means properties. Like Talking, Walking, Dancing etc\n",
    "- Object will have some data which will be stored in variable but the value object will behave is stored in methods.\n",
    "- Methods are nothing but functions, functions in object oriented programming is known as Methods.\n",
    "- Inside the class, we write design of an object. And Object is an instance of a class."
   ]
  },
  {
   "cell_type": "markdown",
   "id": "f52f9b37",
   "metadata": {},
   "source": [
    "## OOPs Concepts"
   ]
  },
  {
   "cell_type": "code",
   "execution_count": 1,
   "id": "3e3def40",
   "metadata": {},
   "outputs": [
    {
     "name": "stdout",
     "output_type": "stream",
     "text": [
      "Pyhton | Data Science | Machine Learning\n"
     ]
    }
   ],
   "source": [
    "class sudhanshu():                                        #class\n",
    "    \"\"\"\n",
    "    Lets have some attributes of Sudhanshu\n",
    "    \"\"\"\n",
    "    \n",
    "    def skills(self):                                                #methods\n",
    "        #self is the object we are passing\n",
    "        print(\"Pyhton | Data Science | Machine Learning\")\n",
    "        \n",
    "sud = sudhanshu()                                           #object\n",
    "\n",
    "sudhanshu.skills(sud)"
   ]
  },
  {
   "cell_type": "code",
   "execution_count": 2,
   "id": "d87af5c8",
   "metadata": {},
   "outputs": [
    {
     "name": "stdout",
     "output_type": "stream",
     "text": [
      "Pyhton | Data Science | Machine Learning\n"
     ]
    }
   ],
   "source": [
    "#we can also directly call it\n",
    "sud.skills()"
   ]
  },
  {
   "cell_type": "code",
   "execution_count": 3,
   "id": "78114c0f",
   "metadata": {},
   "outputs": [
    {
     "data": {
      "text/plain": [
       "3"
      ]
     },
     "execution_count": 3,
     "metadata": {},
     "output_type": "execute_result"
    }
   ],
   "source": [
    "a = 5\n",
    "a.bit_length()"
   ]
  },
  {
   "cell_type": "markdown",
   "id": "0664ace8",
   "metadata": {},
   "source": [
    "## __ init __ method in Python\n",
    "- \"__init__\" is a reseved method in python classes. It is called as a constructor in object oriented terminology. This method is called when an object is created from a class and it allows the class to initialize the attributes of the class."
   ]
  },
  {
   "cell_type": "code",
   "execution_count": 4,
   "id": "58213cc8",
   "metadata": {},
   "outputs": [
    {
     "name": "stdout",
     "output_type": "stream",
     "text": [
      "This will be initalized\n",
      "i5 11the gen, 16 gb RAM, 4 gb Graphics card\n"
     ]
    }
   ],
   "source": [
    "class computer():\n",
    "    \"\"\"\n",
    "    It will have attributes and methods \n",
    "    \"\"\"\n",
    "    \n",
    "    def __init__(self):\n",
    "        print(\"This will be initalized\")\n",
    "        \n",
    "    def config(self):\n",
    "        print(\"i5 11the gen, 16 gb RAM, 4 gb Graphics card\")\n",
    "        \n",
    "\n",
    "com1 = computer()\n",
    "\n",
    "com1.config()"
   ]
  },
  {
   "cell_type": "code",
   "execution_count": 5,
   "id": "a59f3785",
   "metadata": {},
   "outputs": [
    {
     "name": "stdout",
     "output_type": "stream",
     "text": [
      "fruits and Vegetables are : Apple Potato\n",
      "fruits and Vegetables are : Banana Cabbage\n"
     ]
    }
   ],
   "source": [
    "class groffers():\n",
    "    \"\"\"\n",
    "    Lets build a class for fruits and vegetables\n",
    "    \"\"\"\n",
    "    \n",
    "    def __init__(self,fruit,veggies):\n",
    "        self.fruit = fruit\n",
    "        self.veggies = veggies\n",
    "        \n",
    "    def fruveg(self):\n",
    "        print(\"fruits and Vegetables are :\",self.fruit, self.veggies)\n",
    "        \n",
    "\n",
    "sud1 = groffers(\"Apple\", \"Potato\")\n",
    "sud2 = groffers(\"Banana\", \"Cabbage\")\n",
    "\n",
    "\n",
    "sud1.fruveg()\n",
    "sud2.fruveg()"
   ]
  },
  {
   "cell_type": "markdown",
   "id": "76511ba4",
   "metadata": {},
   "source": [
    "## Constructor and Self\n",
    "\n",
    "- All OBJECTS are stored in Heap Memory\n",
    "- Everytime you create an object, it is allocated to a new space."
   ]
  },
  {
   "cell_type": "code",
   "execution_count": 6,
   "id": "3d2bdd34",
   "metadata": {},
   "outputs": [
    {
     "name": "stdout",
     "output_type": "stream",
     "text": [
      "2929209101040\n",
      "2929209100608\n"
     ]
    }
   ],
   "source": [
    "class test():\n",
    "    pass\n",
    "\n",
    "t1 = test()\n",
    "t2 = test()\n",
    "\n",
    "print(id(t1))\n",
    "print(id(t2))"
   ]
  },
  {
   "cell_type": "code",
   "execution_count": 7,
   "id": "985d1524",
   "metadata": {},
   "outputs": [
    {
     "name": "stdout",
     "output_type": "stream",
     "text": [
      "Sud\n",
      "Sudhanshu\n"
     ]
    }
   ],
   "source": [
    "class computer():\n",
    "    def __init__(self):\n",
    "        self.name = \"Sudhanshu\"\n",
    "        self.age = 25\n",
    "        \n",
    "c1 = computer()\n",
    "c2 = computer()\n",
    "\n",
    "c1.name = \"Sud\"\n",
    "c1.age = 25\n",
    "\n",
    "print(c1.name)\n",
    "print(c2.name)"
   ]
  },
  {
   "cell_type": "code",
   "execution_count": 8,
   "id": "79052d33",
   "metadata": {},
   "outputs": [
    {
     "name": "stdout",
     "output_type": "stream",
     "text": [
      "Sud 24\n",
      "Sudhanshu 25\n"
     ]
    }
   ],
   "source": [
    "class computer():\n",
    "    def __init__(self):\n",
    "        self.name = \"Sudhanshu\"\n",
    "        self.age = 25\n",
    "        \n",
    "    def update(self):\n",
    "        self.age = 24\n",
    "        \n",
    "c1 = computer()\n",
    "c2 = computer()\n",
    "\n",
    "c1.name = \"Sud\"\n",
    "c1.age = 25\n",
    "\n",
    "c1.update()\n",
    "\n",
    "print(c1.name, c1.age)\n",
    "print(c2.name, c2.age)\n",
    "\n"
   ]
  },
  {
   "cell_type": "code",
   "execution_count": 9,
   "id": "420b3218",
   "metadata": {},
   "outputs": [
    {
     "name": "stdout",
     "output_type": "stream",
     "text": [
      "They are Same\n",
      "Sud\n",
      "25\n",
      "Sudhanshu\n"
     ]
    }
   ],
   "source": [
    "class computer():\n",
    "    def __init__(self):\n",
    "        self.name = \"Sudhanshu\"\n",
    "        self.age = 25\n",
    "        \n",
    "    def update(self):\n",
    "        self.age = 24\n",
    "        \n",
    "    def compare(self,other):\n",
    "        if self.age == other.age:\n",
    "            return True\n",
    "        else:\n",
    "            False\n",
    "        \n",
    "c1 = computer()\n",
    "c2 = computer()\n",
    "\n",
    "c1.name = \"Sud\"\n",
    "c1.age = 25\n",
    "\n",
    "#c1.update()\n",
    "\n",
    "if c1.compare(c2):\n",
    "    print(\"They are Same\")\n",
    "\n",
    "print(c1.name)\n",
    "print(c1.age)\n",
    "print(c2.name)"
   ]
  },
  {
   "cell_type": "markdown",
   "id": "9242fcf5",
   "metadata": {},
   "source": [
    "### compare(who is calling, whom to compare)"
   ]
  },
  {
   "cell_type": "code",
   "execution_count": 10,
   "id": "4002035f",
   "metadata": {},
   "outputs": [
    {
     "name": "stdout",
     "output_type": "stream",
     "text": [
      "Balle Balle\n",
      "Sud\n",
      "30\n",
      "Sudhanshu\n"
     ]
    }
   ],
   "source": [
    "class computer():\n",
    "    def __init__(self):\n",
    "        self.name = \"Sudhanshu\"\n",
    "        self.age = 25\n",
    "        \n",
    "#     def update(self):\n",
    "#         self.age = 24\n",
    "        \n",
    "    def compare(self,other):\n",
    "        if self.age == other.age:\n",
    "            return True\n",
    "        else:\n",
    "            False\n",
    "        \n",
    "c1 = computer()\n",
    "c2 = computer()\n",
    "\n",
    "c1.name = \"Sud\"\n",
    "c1.age = 30\n",
    "\n",
    "#c1.update()\n",
    "\n",
    "if c1.compare(c2):\n",
    "    print(\"They are Same\")\n",
    "else:\n",
    "    print(\"Balle Balle\")\n",
    "\n",
    "print(c1.name)\n",
    "print(c1.age)\n",
    "print(c2.name)"
   ]
  },
  {
   "cell_type": "markdown",
   "id": "2e757d7c",
   "metadata": {},
   "source": [
    "## Types of Variable\n",
    "\n",
    "- If we declare the variable inside the __ init__ it becomes instance variable and if we declare a variable outside the __ init__ then it becomes Class Variable or Static variable."
   ]
  },
  {
   "cell_type": "code",
   "execution_count": 11,
   "id": "9eff757f",
   "metadata": {},
   "outputs": [
    {
     "name": "stdout",
     "output_type": "stream",
     "text": [
      "10 BMW 7\n",
      "8 BMW 7\n"
     ]
    }
   ],
   "source": [
    "class cars:\n",
    "    \n",
    "    wheels = 4\n",
    "    \n",
    "    def __init__(self):\n",
    "        self.mil = 8\n",
    "        self.com = \"BMW\"\n",
    "        \n",
    "c1 = cars()\n",
    "c2 = cars()\n",
    "\n",
    "c1.mil = 10\n",
    "\n",
    "cars.wheels = 7\n",
    "\n",
    "print(c1.mil, c1.com, c1.wheels)\n",
    "print(c2.mil, c2.com, c2.wheels)"
   ]
  },
  {
   "cell_type": "markdown",
   "id": "31a41c7a",
   "metadata": {},
   "source": [
    "## Types of Methods\n",
    "#### There are 3 types of methods\n",
    "- Instance Methods\n",
    "- Class Methods\n",
    "- Static Methods\n",
    "\n",
    "In Instance methods there are two methods (i) Accessor Methods and (ii) Mutator Methods.\n",
    "- Accessor Methods is used when we just want to access the values.\n",
    "- Mutator Methods is used when we want to modify the values.\n",
    "\n",
    "__*Instance Methods*__"
   ]
  },
  {
   "cell_type": "code",
   "execution_count": 12,
   "id": "9deaea95",
   "metadata": {},
   "outputs": [
    {
     "name": "stdout",
     "output_type": "stream",
     "text": [
      "55.333333333333336\n",
      "Sensei Community\n"
     ]
    }
   ],
   "source": [
    "class student:\n",
    "    \n",
    "    school = \"Sensei Community\"\n",
    "    \n",
    "    def __init__(self,m1,m2,m3):\n",
    "        self.m1 = m1\n",
    "        self.m2 = m2\n",
    "        self.m3 = m3\n",
    "        \n",
    "    def average(self):\n",
    "        return (self.m1 + self.m2 + self.m3)/3\n",
    "    \n",
    "    \n",
    "s1 = student(35, 56, 75)\n",
    "s2 = student(23, 45, 90)\n",
    "\n",
    "print(s1.average())\n",
    "\n",
    "print(s1.school)"
   ]
  },
  {
   "cell_type": "markdown",
   "id": "c06c3f05",
   "metadata": {},
   "source": [
    "#### GET Methods and SET Methods, So getters get the value and Setters set the value.\n",
    "#### Getters will only fetch the value, it will not change the value that's why they are known as ACCESSORS. \n",
    "#### Setters have the capability to change the value and hence they are known as MUTATORS."
   ]
  },
  {
   "cell_type": "code",
   "execution_count": 13,
   "id": "b2007764",
   "metadata": {},
   "outputs": [
    {
     "name": "stdout",
     "output_type": "stream",
     "text": [
      "100\n",
      "77.0\n"
     ]
    }
   ],
   "source": [
    "class student:\n",
    "    \n",
    "    school = \"Sensei Community\"\n",
    "    \n",
    "    def __init__(self,m1,m2,m3):\n",
    "        self.m1 = m1\n",
    "        self.m2 = m2\n",
    "        self.m3 = m3\n",
    "        \n",
    "    def average(self):\n",
    "        return (self.m1 + self.m2 + self.m3)/3\n",
    "    \n",
    "    def get_m1(self):\n",
    "        return self.m1\n",
    "    \n",
    "#     def set_m1(self, value):\n",
    "#         self.m1 = value\n",
    "    \n",
    "# s1.set_m1(200)    \n",
    "s1 = student(100, 56, 75)\n",
    "s2 = student(23, 45, 90)\n",
    "\n",
    "print(s1.get_m1())\n",
    "print(s1.average())\n",
    "\n"
   ]
  },
  {
   "cell_type": "code",
   "execution_count": 14,
   "id": "91823a9b",
   "metadata": {},
   "outputs": [
    {
     "name": "stdout",
     "output_type": "stream",
     "text": [
      "77.0\n"
     ]
    }
   ],
   "source": [
    "class student:\n",
    "    \n",
    "    school = \"Sensei Community\"\n",
    "    \n",
    "    def __init__(self,m1,m2,m3):\n",
    "        self.m1 = m1\n",
    "        self.m2 = m2\n",
    "        self.m3 = m3\n",
    "        \n",
    "    def average(self):\n",
    "        return (self.m1 + self.m2 + self.m3)/3\n",
    "    \n",
    "\n",
    "s1 = student(100, 56, 75)\n",
    "s2 = student(23, 45, 90)\n",
    "\n",
    "print(s1.average())\n",
    "\n"
   ]
  },
  {
   "cell_type": "markdown",
   "id": "cee36f00",
   "metadata": {},
   "source": [
    "__*Class Methods*__\n",
    "\n",
    "- If we want to work with class variable then we will use the Class Methods\n",
    "- Whenever we work with CLASS VARIABLE, we never use SELF Keyword, instead we use CLS keyword."
   ]
  },
  {
   "cell_type": "code",
   "execution_count": 15,
   "id": "849e787f",
   "metadata": {},
   "outputs": [
    {
     "name": "stdout",
     "output_type": "stream",
     "text": [
      "77.0\n",
      "Sensei Community\n"
     ]
    }
   ],
   "source": [
    "class student:\n",
    "    \n",
    "    school = \"Sensei Community\"\n",
    "    \n",
    "    def __init__(self,m1,m2,m3):\n",
    "        self.m1 = m1\n",
    "        self.m2 = m2\n",
    "        self.m3 = m3\n",
    "        \n",
    "    def average(self):\n",
    "        return (self.m1 + self.m2 + self.m3)/3\n",
    "    \n",
    "    \n",
    "    @classmethod                          #decorators\n",
    "    def get_school(cls):\n",
    "        return cls.school\n",
    "    \n",
    "\n",
    "s1 = student(100, 56, 75)\n",
    "s2 = student(23, 45, 90)\n",
    "\n",
    "print(s1.average())\n",
    "print(s1.get_school())\n"
   ]
  },
  {
   "cell_type": "markdown",
   "id": "6c89b3e5",
   "metadata": {},
   "source": [
    "__*Static Methods*__\n",
    "\n",
    "- Static Methods are use when we have nothing to do with class variable or Instance variable, then we use Static Methods. "
   ]
  },
  {
   "cell_type": "code",
   "execution_count": 16,
   "id": "32acf394",
   "metadata": {},
   "outputs": [
    {
     "name": "stdout",
     "output_type": "stream",
     "text": [
      "77.0\n",
      "Sensei Community\n",
      "this is a static method which has nothing to do with class variable or instance variable\n"
     ]
    }
   ],
   "source": [
    "class student:\n",
    "    \n",
    "    school = \"Sensei Community\"\n",
    "    \n",
    "    def __init__(self,m1,m2,m3):\n",
    "        self.m1 = m1\n",
    "        self.m2 = m2\n",
    "        self.m3 = m3\n",
    "        \n",
    "    def average(self):\n",
    "        return (self.m1 + self.m2 + self.m3)/3\n",
    "    \n",
    "    \n",
    "    @classmethod                          #decorators\n",
    "    def get_school(cls):\n",
    "        return cls.school\n",
    "    \n",
    "    @staticmethod\n",
    "    def info():\n",
    "        print(\"this is a static method which has nothing to do with class variable or instance variable\")\n",
    "\n",
    "s1 = student(100, 56, 75)\n",
    "s2 = student(23, 45, 90)\n",
    "\n",
    "print(s1.average())\n",
    "print(s1.get_school())\n",
    "\n",
    "\n",
    "s1.info()\n"
   ]
  },
  {
   "cell_type": "markdown",
   "id": "2d6e2481",
   "metadata": {},
   "source": [
    "##  Inner Class in Python \n",
    "(i.e) A class inside a class\n",
    "\n",
    "# Note - You can create object of inner class inside the outer class OR you can create object of inner class outside the outer class provided you use outer class name to call it."
   ]
  },
  {
   "cell_type": "code",
   "execution_count": 17,
   "id": "5eba714b",
   "metadata": {},
   "outputs": [
    {
     "name": "stdout",
     "output_type": "stream",
     "text": [
      "Sud 5 ASUS i5 11th gen\n",
      "********************************\n",
      "ASUS\n",
      "i5 11th gen\n",
      "********************************\n",
      "ASUS i5 11th gen\n",
      "********************************\n"
     ]
    }
   ],
   "source": [
    "class student:\n",
    "    \n",
    "    def __init__(self,name,rollno):\n",
    "        self.name = name\n",
    "        self.rollno = rollno\n",
    "        self.laptop = self.laptop()\n",
    "        \n",
    "    def show(self):\n",
    "        print(self.name , self.rollno, self.laptop.brand , self.laptop.config)\n",
    "        \n",
    "    class laptop:\n",
    "        \n",
    "        def __init__(self):\n",
    "            self.brand = \"ASUS\"\n",
    "            self.config = \"i5 11th gen\" \n",
    "        \n",
    "        \n",
    "s1 = student(\"Sud\", 5)\n",
    "s2 = student(\"Raj\", 10)\n",
    "\n",
    "s1.show()\n",
    "\n",
    "print(\"********************************\")\n",
    "\n",
    "print(s1.laptop.brand)\n",
    "print(s1.laptop.config)\n",
    "\n",
    "print(\"********************************\")\n",
    "\n",
    "lap1 = student.laptop()\n",
    "lap2 = student.laptop()\n",
    "\n",
    "print(lap1.brand, lap1.config)\n",
    "\n",
    "print(\"********************************\")\n",
    "\n"
   ]
  },
  {
   "cell_type": "code",
   "execution_count": 18,
   "id": "d8637c53",
   "metadata": {},
   "outputs": [
    {
     "name": "stdout",
     "output_type": "stream",
     "text": [
      "Sud 5\n",
      "ASUS i5 11th gen\n"
     ]
    }
   ],
   "source": [
    "class student:\n",
    "    \n",
    "    def __init__(self,name,rollno):\n",
    "        self.name = name\n",
    "        self.rollno = rollno\n",
    "        self.laptop = self.laptop()\n",
    "        \n",
    "    def show(self):\n",
    "        print(self.name , self.rollno)\n",
    "        self.laptop.show()\n",
    "        \n",
    "    class laptop:\n",
    "        \n",
    "        def __init__(self):\n",
    "            self.brand = \"ASUS\"\n",
    "            self.config = \"i5 11th gen\" \n",
    "        \n",
    "        def show(self):\n",
    "            print(self.brand, self.config)\n",
    "        \n",
    "s1 = student(\"Sud\", 5)\n",
    "s2 = student(\"Raj\", 10)\n",
    "\n",
    "s1.show()\n",
    "\n"
   ]
  },
  {
   "cell_type": "markdown",
   "id": "951caf5f",
   "metadata": {},
   "source": [
    "## Inheritance in Python"
   ]
  },
  {
   "cell_type": "code",
   "execution_count": 19,
   "id": "d9efdd28",
   "metadata": {},
   "outputs": [
    {
     "name": "stdout",
     "output_type": "stream",
     "text": [
      "feature 1 is working\n",
      "feature 2 is working\n",
      "***********************************\n",
      "feature 1 is working\n",
      "feature 2 is working\n",
      "feature 3 is working\n",
      "feature 4 is working\n"
     ]
    }
   ],
   "source": [
    "#SINGLE LEVEL INHERITANCE\n",
    "\n",
    "class A:                                    #Super Class or Parent\n",
    "    \n",
    "    def feature1(self):\n",
    "        print(\"feature 1 is working\")\n",
    "    \n",
    "    def feature2(self):\n",
    "        print(\"feature 2 is working\")\n",
    "        \n",
    "        \n",
    "class B(A):                                 #Sub Class or Child Class\n",
    "    def feature3(self):\n",
    "        print(\"feature 3 is working\")\n",
    "    \n",
    "    def feature4(self):\n",
    "        print(\"feature 4 is working\")\n",
    "        \n",
    "a1 = A()\n",
    "b1 = B()\n",
    "\n",
    "a1.feature1()\n",
    "a1.feature2()\n",
    "\n",
    "print(\"***********************************\")\n",
    "\n",
    "b1.feature1()\n",
    "b1.feature2()\n",
    "b1.feature3()\n",
    "b1.feature4()"
   ]
  },
  {
   "cell_type": "code",
   "execution_count": 20,
   "id": "743193ee",
   "metadata": {},
   "outputs": [
    {
     "name": "stdout",
     "output_type": "stream",
     "text": [
      "feature 1 is working\n",
      "feature 2 is working\n",
      "***********************************\n",
      "feature 1 is working\n",
      "feature 2 is working\n",
      "feature 3 is working\n",
      "feature 4 is working\n",
      "***********************************\n",
      "feature 1 is working\n",
      "feature 2 is working\n",
      "feature 3 is working\n",
      "feature 4 is working\n",
      "feature 5 is working\n"
     ]
    }
   ],
   "source": [
    "#MULTILEVEL INHERITANCE\n",
    "\n",
    "class A:                                    #Super Class or Parent\n",
    "    \n",
    "    def feature1(self):\n",
    "        print(\"feature 1 is working\")\n",
    "    \n",
    "    def feature2(self):\n",
    "        print(\"feature 2 is working\")\n",
    "        \n",
    "        \n",
    "class B(A):                                 #Sub Class or Child Class\n",
    "    def feature3(self):\n",
    "        print(\"feature 3 is working\")\n",
    "    \n",
    "    def feature4(self):\n",
    "        print(\"feature 4 is working\")\n",
    "\n",
    "class C(B):\n",
    "    def feature5(self):\n",
    "        print(\"feature 5 is working\")\n",
    "        \n",
    "a1 = A()\n",
    "b1 = B()\n",
    "c1 = C()\n",
    "\n",
    "a1.feature1()\n",
    "a1.feature2()\n",
    "\n",
    "print(\"***********************************\")\n",
    "\n",
    "b1.feature1()\n",
    "b1.feature2()\n",
    "b1.feature3()\n",
    "b1.feature4()\n",
    "\n",
    "print(\"***********************************\")\n",
    "\n",
    "c1.feature1()\n",
    "c1.feature2()\n",
    "c1.feature3()\n",
    "c1.feature4()\n",
    "c1.feature5()"
   ]
  },
  {
   "cell_type": "code",
   "execution_count": 21,
   "id": "512cab99",
   "metadata": {},
   "outputs": [
    {
     "name": "stdout",
     "output_type": "stream",
     "text": [
      "feature 1 is working\n",
      "feature 2 is working\n",
      "***********************************\n",
      "feature 3 is working\n",
      "feature 4 is working\n",
      "***********************************\n",
      "feature 1 is working\n",
      "feature 2 is working\n",
      "feature 3 is working\n",
      "feature 4 is working\n",
      "feature 5 is working\n"
     ]
    }
   ],
   "source": [
    "#MULTIPLE INHERITANCE\n",
    "\n",
    "class A:                                    \n",
    "    \n",
    "    def feature1(self):\n",
    "        print(\"feature 1 is working\")\n",
    "    \n",
    "    def feature2(self):\n",
    "        print(\"feature 2 is working\")\n",
    "        \n",
    "        \n",
    "class B:                                 \n",
    "    def feature3(self):\n",
    "        print(\"feature 3 is working\")\n",
    "    \n",
    "    def feature4(self):\n",
    "        print(\"feature 4 is working\")\n",
    "\n",
    "class C(A,B):\n",
    "    def feature5(self):\n",
    "        print(\"feature 5 is working\")\n",
    "        \n",
    "a1 = A()\n",
    "b1 = B()\n",
    "c1 = C()\n",
    "\n",
    "a1.feature1()\n",
    "a1.feature2()\n",
    "\n",
    "print(\"***********************************\")\n",
    "\n",
    "b1.feature3()\n",
    "b1.feature4()\n",
    "\n",
    "print(\"***********************************\")\n",
    "\n",
    "c1.feature1()\n",
    "c1.feature2()\n",
    "c1.feature3()\n",
    "c1.feature4()\n",
    "c1.feature5()"
   ]
  },
  {
   "cell_type": "markdown",
   "id": "eb767ed5",
   "metadata": {},
   "source": [
    "## Constructor in Inheritance in Python\n",
    "- (i) Constructor in Inheritance\n",
    "- (ii) Method Resolution Order (MRO)\n",
    "### (i) Constructor in Inheritance"
   ]
  },
  {
   "cell_type": "code",
   "execution_count": 22,
   "id": "43226382",
   "metadata": {},
   "outputs": [
    {
     "name": "stdout",
     "output_type": "stream",
     "text": [
      "in A init\n"
     ]
    }
   ],
   "source": [
    "class A:                                    #Super Class or Parent\n",
    "    \n",
    "    def __init__(self):\n",
    "        print(\"in A init\")\n",
    "    \n",
    "    def feature1(self):\n",
    "        print(\"feature 1 is working\")\n",
    "    \n",
    "    def feature2(self):\n",
    "        print(\"feature 2 is working\")\n",
    "        \n",
    "        \n",
    "class B(A):                                 #Sub Class or Child Class\n",
    "    def feature3(self):\n",
    "        print(\"feature 3 is working\")\n",
    "    \n",
    "    def feature4(self):\n",
    "        print(\"feature 4 is working\")\n",
    "        \n",
    "        \n",
    "b1 = B()"
   ]
  },
  {
   "cell_type": "markdown",
   "id": "59285b92",
   "metadata": {},
   "source": [
    "# Note - If you create object of Sub Class then it will first try to find init of Sub Class and if it is not found then it will try to find init of Super Class."
   ]
  },
  {
   "cell_type": "code",
   "execution_count": 23,
   "id": "80f63837",
   "metadata": {},
   "outputs": [
    {
     "name": "stdout",
     "output_type": "stream",
     "text": [
      "in B init\n"
     ]
    }
   ],
   "source": [
    "class A:                                    #Super Class or Parent\n",
    "    \n",
    "    def __init__(self):\n",
    "        print(\"in A init\")\n",
    "    \n",
    "    def feature1(self):\n",
    "        print(\"feature 1 is working\")\n",
    "    \n",
    "    def feature2(self):\n",
    "        print(\"feature 2 is working\")\n",
    "        \n",
    "        \n",
    "class B(A):                                 #Sub Class or Child Class\n",
    "    \n",
    "    def __init__(self):\n",
    "        print(\"in B init\")\n",
    "        \n",
    "    def feature3(self):\n",
    "        print(\"feature 3 is working\")\n",
    "    \n",
    "    def feature4(self):\n",
    "        print(\"feature 4 is working\")\n",
    "        \n",
    "        \n",
    "b1 = B()"
   ]
  },
  {
   "cell_type": "markdown",
   "id": "995836ee",
   "metadata": {},
   "source": [
    "# Note - When you create object of Sub Class it will call init of Sub Class first. However if you have call _super_ then it will first call init of Super Class then call init of Sub class"
   ]
  },
  {
   "cell_type": "code",
   "execution_count": 24,
   "id": "dc38210c",
   "metadata": {},
   "outputs": [
    {
     "name": "stdout",
     "output_type": "stream",
     "text": [
      "in A init\n",
      "in B init\n"
     ]
    }
   ],
   "source": [
    "class A:                                    #Super Class or Parent\n",
    "    \n",
    "    def __init__(self):\n",
    "        print(\"in A init\")\n",
    "    \n",
    "    def feature1(self):\n",
    "        print(\"feature 1 is working\")\n",
    "    \n",
    "    def feature2(self):\n",
    "        print(\"feature 2 is working\")\n",
    "        \n",
    "        \n",
    "class B(A):                                 #Sub Class or Child Class\n",
    "    \n",
    "    def __init__(self):\n",
    "        super().__init__()\n",
    "        print(\"in B init\")\n",
    "        \n",
    "    def feature3(self):\n",
    "        print(\"feature 3 is working\")\n",
    "    \n",
    "    def feature4(self):\n",
    "        print(\"feature 4 is working\")\n",
    "        \n",
    "        \n",
    "b1 = B()"
   ]
  },
  {
   "cell_type": "markdown",
   "id": "cc3e5989",
   "metadata": {},
   "source": [
    "### (ii) Method Resolution Order (MRO)"
   ]
  },
  {
   "cell_type": "code",
   "execution_count": 25,
   "id": "199d8889",
   "metadata": {},
   "outputs": [
    {
     "name": "stdout",
     "output_type": "stream",
     "text": [
      "in A init\n",
      "in C init\n"
     ]
    }
   ],
   "source": [
    "class A:                                    #Super Class or Parent\n",
    "    \n",
    "    def __init__(self):\n",
    "        print(\"in A init\")\n",
    "    \n",
    "    def feature1(self):\n",
    "        print(\"feature 1 is working\")\n",
    "    \n",
    "    def feature2(self):\n",
    "        print(\"feature 2 is working\")\n",
    "        \n",
    "        \n",
    "class B:                                 #Sub Class or Child Class\n",
    "    \n",
    "    def __init__(self):\n",
    "        super().__init__()\n",
    "        print(\"in B init\")\n",
    "        \n",
    "    def feature3(self):\n",
    "        print(\"feature 3 is working\")\n",
    "    \n",
    "    def feature4(self):\n",
    "        print(\"feature 4 is working\")\n",
    "\n",
    "class C(A,B):\n",
    "    def __init__(self):\n",
    "        super().__init__()\n",
    "        print(\"in C init\")\n",
    "        \n",
    "        \n",
    "b1 = C()"
   ]
  },
  {
   "cell_type": "markdown",
   "id": "b3e18b9d",
   "metadata": {},
   "source": [
    "# Note - In Method Resolution order, it moves from left to right and that is the reason why if there are two super class, it considers the first class from left."
   ]
  },
  {
   "cell_type": "markdown",
   "id": "45fe926c",
   "metadata": {},
   "source": [
    "### To represent Super Class we use Super Method"
   ]
  },
  {
   "cell_type": "code",
   "execution_count": 26,
   "id": "1d997f1b",
   "metadata": {},
   "outputs": [
    {
     "name": "stdout",
     "output_type": "stream",
     "text": [
      "in A init\n",
      "in C init\n",
      "feature 2 is working\n"
     ]
    }
   ],
   "source": [
    "class A:                                    #Super Class or Parent\n",
    "    \n",
    "    def __init__(self):\n",
    "        print(\"in A init\")\n",
    "    \n",
    "    def feature1(self):\n",
    "        print(\"feature 1 is working\")\n",
    "    \n",
    "    def feature2(self):\n",
    "        print(\"feature 2 is working\")\n",
    "        \n",
    "        \n",
    "class B:                                 #Sub Class or Child Class\n",
    "    \n",
    "    def __init__(self):\n",
    "        #super().__init__()\n",
    "        print(\"in B init\")\n",
    "        \n",
    "    def feature3(self):\n",
    "        print(\"feature 3 is working\")\n",
    "    \n",
    "    def feature4(self):\n",
    "        print(\"feature 4 is working\")\n",
    "\n",
    "class C(A,B):\n",
    "    def __init__(self):\n",
    "        super().__init__()\n",
    "        print(\"in C init\")\n",
    "        \n",
    "    def feat(self):\n",
    "        super().feature2()\n",
    "        \n",
    "        \n",
    "b1 = C()\n",
    "b1.feat()"
   ]
  },
  {
   "cell_type": "markdown",
   "id": "20e024e9",
   "metadata": {},
   "source": [
    "## Introduction to Polymorphism in Python\n",
    "### There are 4 ways to implment polymorphism in python\n",
    "- Duck Typing\n",
    "- Operator overloading\n",
    "- Method Overloading\n",
    "- Method Overriding\n",
    "\n",
    "### (i) Duck Typing \n",
    "- There is famous saying, if there's a bird and it is walking a duck, quacking like a duck and swimming like a duck then it is probably a duck.\n",
    "- Let's implement this in programming"
   ]
  },
  {
   "cell_type": "code",
   "execution_count": 27,
   "id": "de82a649",
   "metadata": {},
   "outputs": [
    {
     "name": "stdout",
     "output_type": "stream",
     "text": [
      "compiling\n",
      "executing\n"
     ]
    }
   ],
   "source": [
    "class pycharm:\n",
    "    def execute(self):\n",
    "        print(\"compiling\")\n",
    "        print(\"executing\")\n",
    "        \n",
    "class laptop:\n",
    "    def code(self,ide):\n",
    "        ide.execute()\n",
    "        \n",
    "ide = pycharm()\n",
    "\n",
    "lap1 = laptop()\n",
    "lap1.code(ide)"
   ]
  },
  {
   "cell_type": "code",
   "execution_count": 28,
   "id": "a17056e7",
   "metadata": {},
   "outputs": [
    {
     "name": "stdout",
     "output_type": "stream",
     "text": [
      "spellcheck\n",
      "convention check\n",
      "compiling\n",
      "running\n"
     ]
    }
   ],
   "source": [
    "class pycharm:\n",
    "    def execute(self):                                           #duck typing \n",
    "        print(\"compiling\")\n",
    "        print(\"executing\")\n",
    "        \n",
    "class myeditor:\n",
    "    def execute(self):                                           #duck typing\n",
    "        print(\"spellcheck\")\n",
    "        print(\"convention check\")\n",
    "        print(\"compiling\")\n",
    "        print(\"running\")\n",
    "\n",
    "class laptop:\n",
    "    def code(self,ide):\n",
    "        ide.execute()\n",
    "        \n",
    "#ide = pycharm()\n",
    "ide = myeditor()\n",
    "\n",
    "lap1 = laptop()\n",
    "lap1.code(ide)"
   ]
  },
  {
   "cell_type": "markdown",
   "id": "cde1b650",
   "metadata": {},
   "source": [
    "### (ii) Operator overloading in python "
   ]
  },
  {
   "cell_type": "code",
   "execution_count": 29,
   "id": "bd893e5a",
   "metadata": {},
   "outputs": [
    {
     "name": "stdout",
     "output_type": "stream",
     "text": [
      "71\n",
      "105\n",
      "s1 has higher marks\n",
      "58 60\n"
     ]
    }
   ],
   "source": [
    "class student:\n",
    "    def __init__(self,m1,m2):\n",
    "        self.m1 = m1\n",
    "        self.m2 = m2\n",
    "        \n",
    "    def __add__(self,other):\n",
    "        m1 = self.m1 + other.m1\n",
    "        m2 = self.m2 + other.m2\n",
    "        s3 = student(m1,m2)\n",
    "        \n",
    "        return s3\n",
    "    \n",
    "    def __gt__(self,other):\n",
    "        r1 = self.m1 + self.m2\n",
    "        r2 = other.m1 + other.m2\n",
    "        if r1 > r2:\n",
    "            return True\n",
    "        else:\n",
    "            False\n",
    "            \n",
    "    def __str__(self):\n",
    "        return \"{} {}\".format(self.m1,self.m2)\n",
    "    \n",
    "\n",
    "s1 = student(58,60)\n",
    "s2 = student(13,45)\n",
    "\n",
    "#behind the scenes it is converted into student.__add__(s1,s2) where s1 is self and s2 is other\n",
    "s3 = s1 + s2 \n",
    "\n",
    "print(s3.m1)\n",
    "print(s3.m2)\n",
    "\n",
    "if s1 > s2:\n",
    "    print(\"s1 has higher marks\")\n",
    "else:\n",
    "    print(\"s2 has higher marks\")\n",
    "    \n",
    "print(s1)"
   ]
  },
  {
   "cell_type": "markdown",
   "id": "460b97cf",
   "metadata": {},
   "source": [
    "### (iii) Method Overloading and Method Overriding\n",
    "- In Method Overloading, we have different methods with same name where one take two parameters and other takes three parameters. In python, we don't have Method overloading, we cannnot create two methods with same name in python therefore method overloading is usually applicable in Java, c#, c++.\n"
   ]
  },
  {
   "cell_type": "code",
   "execution_count": 33,
   "id": "9fd37a21",
   "metadata": {},
   "outputs": [
    {
     "name": "stdout",
     "output_type": "stream",
     "text": [
      "12\n"
     ]
    }
   ],
   "source": [
    "#method overloading\n",
    "\n",
    "class student:\n",
    "    \n",
    "    def __init__(self,m1,m2):\n",
    "        self.m1 = m1\n",
    "        self.m2 = m2\n",
    "        \n",
    "    def sum(self,a,b):\n",
    "        s = a+b\n",
    "        \n",
    "        return s\n",
    "    \n",
    "s1 = student(40,100)\n",
    "    \n",
    "print(s1.sum(5,7))\n",
    "\n",
    "#Since python doesn't support method overloading and if we want to pass third parameter in sum(),\n",
    "#we cannot create another method with same name (sum) and therefore here ww will be passsing another \n",
    "#parameter c in the sum() method. Check the next cell."
   ]
  },
  {
   "cell_type": "code",
   "execution_count": 34,
   "id": "3583a2a5",
   "metadata": {},
   "outputs": [
    {
     "name": "stdout",
     "output_type": "stream",
     "text": [
      "112\n"
     ]
    }
   ],
   "source": [
    "class student:\n",
    "    \n",
    "    def __init__(self,m1,m2):\n",
    "        self.m1 = m1\n",
    "        self.m2 = m2\n",
    "        \n",
    "    def sum(self,a,b,c):\n",
    "        s = a+b+c\n",
    "        \n",
    "        return s\n",
    "    \n",
    "s1 = student(40,100)\n",
    "    \n",
    "print(s1.sum(5,7,100))"
   ]
  },
  {
   "cell_type": "code",
   "execution_count": 40,
   "id": "8df28243",
   "metadata": {},
   "outputs": [
    {
     "name": "stdout",
     "output_type": "stream",
     "text": [
      "18\n"
     ]
    }
   ],
   "source": [
    "class student:\n",
    "    \n",
    "    def __init__(self,m1,m2):\n",
    "        self.m1 = m1\n",
    "        self.m2 = m2\n",
    "        \n",
    "    def sum(self,a = None,b = None,c = None):\n",
    "        s = 0\n",
    "        if a!=None and b!=None and c!=None:\n",
    "            s = a+b+c\n",
    "        elif a!=None and b!=None:\n",
    "            s = a + b\n",
    "        else:\n",
    "            s = a\n",
    "        \n",
    "        return s\n",
    "    \n",
    "s1 = student(40,100)\n",
    "    \n",
    "print(s1.sum(5,7,6))"
   ]
  },
  {
   "cell_type": "code",
   "execution_count": 42,
   "id": "c9dfd6b7",
   "metadata": {},
   "outputs": [
    {
     "name": "stdout",
     "output_type": "stream",
     "text": [
      "IN A SHOW\n"
     ]
    }
   ],
   "source": [
    "#method overriding\n",
    "\n",
    "class A:\n",
    "    def show(self):\n",
    "        print(\"IN A SHOW\")\n",
    "        \n",
    "class B(A):\n",
    "    pass\n",
    "\n",
    "a1 = B()\n",
    "a1.show()"
   ]
  },
  {
   "cell_type": "code",
   "execution_count": 43,
   "id": "afac0aca",
   "metadata": {},
   "outputs": [
    {
     "name": "stdout",
     "output_type": "stream",
     "text": [
      "IN B SHOW\n"
     ]
    }
   ],
   "source": [
    "#method overriding\n",
    "\n",
    "class A:\n",
    "    def show(self):\n",
    "        print(\"IN A SHOW\")\n",
    "        \n",
    "class B(A):\n",
    "    def show(self):\n",
    "        print(\"IN B SHOW\")\n",
    "\n",
    "a1 = B()\n",
    "a1.show()"
   ]
  },
  {
   "cell_type": "code",
   "execution_count": null,
   "id": "9beeabf8",
   "metadata": {},
   "outputs": [],
   "source": []
  }
 ],
 "metadata": {
  "kernelspec": {
   "display_name": "Python 3 (ipykernel)",
   "language": "python",
   "name": "python3"
  },
  "language_info": {
   "codemirror_mode": {
    "name": "ipython",
    "version": 3
   },
   "file_extension": ".py",
   "mimetype": "text/x-python",
   "name": "python",
   "nbconvert_exporter": "python",
   "pygments_lexer": "ipython3",
   "version": "3.9.7"
  }
 },
 "nbformat": 4,
 "nbformat_minor": 5
}
