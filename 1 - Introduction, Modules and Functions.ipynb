{
 "cells": [
  {
   "cell_type": "markdown",
   "id": "7cd81cca",
   "metadata": {},
   "source": [
    "### Data Science lies at the intersection of :\n",
    "- Hacking Skills\n",
    "- Math and Statistics Knowledge \n",
    "- Substantive Expertise\n",
    "\n",
    "### Python is well suited for learning Data Science :\n",
    "- It's Free.\n",
    "- It's relatively easy to code in and, in particular, to understand.\n",
    "- It has lots of useful data science related libraries."
   ]
  },
  {
   "cell_type": "markdown",
   "id": "42ed2ea2",
   "metadata": {},
   "source": [
    ">Python uses *__indentation__* to delimit the execution of block of code  "
   ]
  },
  {
   "cell_type": "code",
   "execution_count": 1,
   "id": "01ba1f29",
   "metadata": {},
   "outputs": [
    {
     "name": "stdout",
     "output_type": "stream",
     "text": [
      "1\n",
      "1\n",
      "2\n",
      "2\n",
      "3\n",
      "1\n",
      "2\n",
      "1\n",
      "3\n",
      "2\n",
      "4\n",
      "2\n",
      "Loop completed\n"
     ]
    }
   ],
   "source": [
    "#example\n",
    "for i in [1,2]:\n",
    "    print(i)\n",
    "    for j in [1,2]:\n",
    "        print(j)\n",
    "        print(i+j)\n",
    "    print(i)\n",
    "\n",
    "print(\"Loop completed\")"
   ]
  },
  {
   "cell_type": "code",
   "execution_count": 2,
   "id": "b29157b1",
   "metadata": {},
   "outputs": [
    {
     "data": {
      "text/plain": [
       "28"
      ]
     },
     "execution_count": 2,
     "metadata": {},
     "output_type": "execute_result"
    }
   ],
   "source": [
    "#indentation is ignored while working with inside parentheses and brackets\n",
    "\n",
    "bracket_example = (1 + 2 + 3 + 4 + 5 + 6 + 7)\n",
    "bracket_example"
   ]
  },
  {
   "cell_type": "code",
   "execution_count": 3,
   "id": "532580ae",
   "metadata": {},
   "outputs": [
    {
     "name": "stdout",
     "output_type": "stream",
     "text": [
      "[[1, 2, 3], [4, 5, 6], [7, 8, 9]]\n",
      "[[1, 2, 3], [4, 5, 6], [7, 8, 9]]\n"
     ]
    }
   ],
   "source": [
    "#indentation also makes our code easier to read\n",
    "\n",
    "list_of_lists = [[1, 2, 3], [4, 5, 6], [7, 8, 9]]\n",
    "\n",
    "easier_to_read_list_of_lists = [[1, 2, 3],\n",
    "                              [4, 5, 6],\n",
    "                              [7, 8, 9]]\n",
    "\n",
    "print(list_of_lists)\n",
    "print(easier_to_read_list_of_lists)"
   ]
  },
  {
   "cell_type": "markdown",
   "id": "e2495917",
   "metadata": {},
   "source": [
    "> We can use a *__backslash ( \\ )__* to indicate that a statement continues onto the next line."
   ]
  },
  {
   "cell_type": "code",
   "execution_count": 4,
   "id": "91b371be",
   "metadata": {},
   "outputs": [
    {
     "name": "stdout",
     "output_type": "stream",
     "text": [
      "5\n"
     ]
    }
   ],
   "source": [
    "a = 2 + \\\n",
    "3\n",
    "print(a)"
   ]
  },
  {
   "cell_type": "markdown",
   "id": "0188a775",
   "metadata": {},
   "source": [
    "### Modules\n",
    "- Modules is collection of statements and definitions.\n",
    "- Modules are used to break larger programs into small manageable and organized files.\n",
    "- One can create modules on their own(module = example.py & module_name = example) or you can even install & import third party modules."
   ]
  },
  {
   "cell_type": "code",
   "execution_count": 5,
   "id": "5d13ae95",
   "metadata": {},
   "outputs": [],
   "source": [
    "import matplotlib.pyplot as plt"
   ]
  },
  {
   "cell_type": "markdown",
   "id": "a067a5cb",
   "metadata": {},
   "source": [
    "> Let's create one module on our own"
   ]
  },
  {
   "cell_type": "markdown",
   "id": "21d368bc",
   "metadata": {},
   "source": [
    "def add(a,b):\n",
    "    \"\"\"\n",
    "    This module is used to add two numbers\n",
    "    \"\"\"\n",
    "    result = a + b\n",
    "    return result"
   ]
  },
  {
   "cell_type": "code",
   "execution_count": 6,
   "id": "95bd0886",
   "metadata": {},
   "outputs": [],
   "source": [
    "import example"
   ]
  },
  {
   "cell_type": "code",
   "execution_count": 7,
   "id": "c41f05fc",
   "metadata": {},
   "outputs": [
    {
     "data": {
      "text/plain": [
       "9"
      ]
     },
     "execution_count": 7,
     "metadata": {},
     "output_type": "execute_result"
    }
   ],
   "source": [
    "example.add(5,4)"
   ]
  },
  {
   "cell_type": "markdown",
   "id": "c9100351",
   "metadata": {},
   "source": [
    "### Functions\n",
    "- A function is a set or block of code which runs only when it is called.\n",
    "- *__def__* keyword is used to define a function.\n",
    "- A function takes inputs which are known as parameters and gives out outputs which is result.\n",
    "- Defining a function for writing any program is a good programming habit.\n",
    "- A function also contains docstrings which basically tells us about the use of the function."
   ]
  },
  {
   "cell_type": "code",
   "execution_count": 8,
   "id": "ba110cb2",
   "metadata": {},
   "outputs": [],
   "source": [
    "def multiply_by_two(x):\n",
    "    \"\"\"\n",
    "    This function will multiply the input by 2\n",
    "    \"\"\"\n",
    "    result = x * 2\n",
    "    return result"
   ]
  },
  {
   "cell_type": "code",
   "execution_count": 9,
   "id": "e5007ed9",
   "metadata": {},
   "outputs": [
    {
     "data": {
      "text/plain": [
       "50"
      ]
     },
     "execution_count": 9,
     "metadata": {},
     "output_type": "execute_result"
    }
   ],
   "source": [
    "multiply_by_two(25)"
   ]
  },
  {
   "cell_type": "code",
   "execution_count": 10,
   "id": "847db251",
   "metadata": {},
   "outputs": [],
   "source": [
    "def double(x):\n",
    "    \"\"\"\n",
    "    Multiply x by 2\n",
    "    \"\"\"\n",
    "    return x*2"
   ]
  },
  {
   "cell_type": "markdown",
   "id": "cde82826",
   "metadata": {},
   "source": [
    "> Python functions are amazing. We can assign them to variables and then pass variable into the functions."
   ]
  },
  {
   "cell_type": "code",
   "execution_count": 11,
   "id": "4a8aaa05",
   "metadata": {},
   "outputs": [],
   "source": [
    "def apply_to_one(f):\n",
    "    \"\"\"\n",
    "    Calls the function f with 1 as its argument.\n",
    "    \"\"\"\n",
    "    return f(1)"
   ]
  },
  {
   "cell_type": "code",
   "execution_count": 13,
   "id": "e0124383",
   "metadata": {},
   "outputs": [
    {
     "name": "stdout",
     "output_type": "stream",
     "text": [
      "2\n"
     ]
    }
   ],
   "source": [
    "#refers to the previously defined function\n",
    "my_double = double\n",
    "x = apply_to_one(my_double)\n",
    "print(x)"
   ]
  },
  {
   "cell_type": "markdown",
   "id": "9fc53c15",
   "metadata": {},
   "source": [
    "> We can also create functions using Lambda"
   ]
  },
  {
   "cell_type": "code",
   "execution_count": 19,
   "id": "7a3fe868",
   "metadata": {},
   "outputs": [
    {
     "name": "stdout",
     "output_type": "stream",
     "text": [
      "5\n"
     ]
    }
   ],
   "source": [
    "y = apply_to_one(lambda x:x+4)\n",
    "print(y)"
   ]
  },
  {
   "cell_type": "markdown",
   "id": "4191af2c",
   "metadata": {},
   "source": [
    "> Function parameters can also be given default arguments which only need to be specified when you want a value other than the default."
   ]
  },
  {
   "cell_type": "code",
   "execution_count": 20,
   "id": "5fb524c6",
   "metadata": {},
   "outputs": [],
   "source": [
    "def my_message(message=\"Hello World!\"):\n",
    "    \"\"\"\n",
    "    This function will print the message when called.\n",
    "    \"\"\"\n",
    "    print(message)"
   ]
  },
  {
   "cell_type": "code",
   "execution_count": 22,
   "id": "53f61c94",
   "metadata": {},
   "outputs": [
    {
     "name": "stdout",
     "output_type": "stream",
     "text": [
      "Hello World!\n"
     ]
    }
   ],
   "source": [
    "my_message()"
   ]
  },
  {
   "cell_type": "code",
   "execution_count": 23,
   "id": "08b6973f",
   "metadata": {},
   "outputs": [
    {
     "name": "stdout",
     "output_type": "stream",
     "text": [
      "Hello World! Let's code in python\n"
     ]
    }
   ],
   "source": [
    "my_message(\"Hello World! Let's code in python\")"
   ]
  },
  {
   "cell_type": "code",
   "execution_count": 27,
   "id": "8aa07d66",
   "metadata": {},
   "outputs": [],
   "source": [
    "def full_name(first=\"John\",last=\"Doe\"):\n",
    "    \"\"\"\n",
    "    This function is for displaying first name and last name\n",
    "    \"\"\"\n",
    "    print(first + \" \" + last)"
   ]
  },
  {
   "cell_type": "code",
   "execution_count": 30,
   "id": "ea74d2fb",
   "metadata": {},
   "outputs": [
    {
     "name": "stdout",
     "output_type": "stream",
     "text": [
      "John Doe\n",
      "Sudhanshu Mukherjee\n",
      "Dudh Doe\n"
     ]
    }
   ],
   "source": [
    "full_name()\n",
    "full_name(\"Sudhanshu\",\"Mukherjee\")\n",
    "full_name(first=\"Dudh\")"
   ]
  },
  {
   "cell_type": "code",
   "execution_count": null,
   "id": "24b402cb",
   "metadata": {},
   "outputs": [],
   "source": []
  }
 ],
 "metadata": {
  "kernelspec": {
   "display_name": "Python 3 (ipykernel)",
   "language": "python",
   "name": "python3"
  },
  "language_info": {
   "codemirror_mode": {
    "name": "ipython",
    "version": 3
   },
   "file_extension": ".py",
   "mimetype": "text/x-python",
   "name": "python",
   "nbconvert_exporter": "python",
   "pygments_lexer": "ipython3",
   "version": "3.9.7"
  }
 },
 "nbformat": 4,
 "nbformat_minor": 5
}
