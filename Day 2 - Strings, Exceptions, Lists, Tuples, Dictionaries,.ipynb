{
 "cells": [
  {
   "cell_type": "markdown",
   "id": "4b154d02",
   "metadata": {},
   "source": [
    "### Strings\n",
    "- A string is a sequence of characters.\n",
    "- Strings can be declared using Single and Double quotation marks."
   ]
  },
  {
   "cell_type": "code",
   "execution_count": 1,
   "id": "44a44af6",
   "metadata": {},
   "outputs": [],
   "source": [
    "str1 = \"learn Strings in Python\"\n",
    "str2 = 'Learn python for Data Science'\n",
    "str3 = \"Practice \" + \"Python3\" + \" everyday\" "
   ]
  },
  {
   "cell_type": "code",
   "execution_count": 2,
   "id": "e4948821",
   "metadata": {},
   "outputs": [
    {
     "name": "stdout",
     "output_type": "stream",
     "text": [
      "learn Strings in Python\n",
      "Learn python for Data Science\n",
      "Practice Python3 everyday\n"
     ]
    }
   ],
   "source": [
    "print(str1)\n",
    "print(str2)\n",
    "print(str3)"
   ]
  },
  {
   "cell_type": "markdown",
   "id": "ab6cab98",
   "metadata": {},
   "source": [
    "> Python used backslashes to encoode special characters"
   ]
  },
  {
   "cell_type": "code",
   "execution_count": 3,
   "id": "fca23dc5",
   "metadata": {},
   "outputs": [
    {
     "data": {
      "text/plain": [
       "1"
      ]
     },
     "execution_count": 3,
     "metadata": {},
     "output_type": "execute_result"
    }
   ],
   "source": [
    "tab_string = \"\\t\"\n",
    "len(tab_string)"
   ]
  },
  {
   "cell_type": "markdown",
   "id": "00f06ce7",
   "metadata": {},
   "source": [
    "> To use backslashes as backslashes, you can simply create raw strings using __*r\"\"*__"
   ]
  },
  {
   "cell_type": "code",
   "execution_count": 4,
   "id": "fb433b0e",
   "metadata": {},
   "outputs": [
    {
     "data": {
      "text/plain": [
       "2"
      ]
     },
     "execution_count": 4,
     "metadata": {},
     "output_type": "execute_result"
    }
   ],
   "source": [
    "str1 = r\"\\t\"\n",
    "len(str1)"
   ]
  },
  {
   "cell_type": "markdown",
   "id": "899c4027",
   "metadata": {},
   "source": [
    "- Let's look at the feature known as __*f-string*__.\n",
    "- This feature can be real usefull while concatenating two different strings.\n",
    "- There are multiple ways to concatenate different strings."
   ]
  },
  {
   "cell_type": "code",
   "execution_count": 5,
   "id": "2408f196",
   "metadata": {},
   "outputs": [],
   "source": [
    "first_name = \"Sudhanshu\"\n",
    "last_name = \"Mukherjee\""
   ]
  },
  {
   "cell_type": "code",
   "execution_count": 6,
   "id": "55232e23",
   "metadata": {},
   "outputs": [],
   "source": [
    "full_name1 = first_name + \" \" + last_name\n",
    "full_name2 = \"{0} {1}\".format(first_name,last_name)"
   ]
  },
  {
   "cell_type": "markdown",
   "id": "1d9437ae",
   "metadata": {},
   "source": [
    ">Let's use __*f-string*__ now\n",
    "- A formatted string literal or f-string is a string literal that is prefixed with 'f' or 'F'. These strings may contain replacement fields, which are expressions delimited by curly braces __*{ }*__. While other string literals always have a constant value, formatted strings are really expressions evaluated at run time."
   ]
  },
  {
   "cell_type": "code",
   "execution_count": 7,
   "id": "9012326a",
   "metadata": {},
   "outputs": [],
   "source": [
    "full_name3 = f\"{first_name} {last_name}\""
   ]
  },
  {
   "cell_type": "code",
   "execution_count": 8,
   "id": "01071202",
   "metadata": {},
   "outputs": [
    {
     "name": "stdout",
     "output_type": "stream",
     "text": [
      "Sudhanshu Mukherjee\n",
      "Sudhanshu Mukherjee\n",
      "Sudhanshu Mukherjee\n"
     ]
    }
   ],
   "source": [
    "print(full_name1)\n",
    "print(full_name2)\n",
    "print(full_name3)"
   ]
  },
  {
   "cell_type": "code",
   "execution_count": 71,
   "id": "7cbdecd8",
   "metadata": {},
   "outputs": [
    {
     "name": "stdout",
     "output_type": "stream",
     "text": [
      "Value of 2x is 20\n"
     ]
    }
   ],
   "source": [
    "x = 10\n",
    "print(f\"Value of 2x is {2*x}\")"
   ]
  },
  {
   "cell_type": "markdown",
   "id": "5456f95e",
   "metadata": {},
   "source": [
    "### Exceptions \n",
    "- An exception is an event which occurs during program execution and disrupts the normal workflow of program instructions."
   ]
  },
  {
   "cell_type": "code",
   "execution_count": 9,
   "id": "00219c02",
   "metadata": {},
   "outputs": [
    {
     "name": "stdout",
     "output_type": "stream",
     "text": [
      "Cannot divide by zero\n"
     ]
    }
   ],
   "source": [
    "try:\n",
    "    print(0/0)\n",
    "except ZeroDivisionError:\n",
    "    print(\"Cannot divide by zero\")"
   ]
  },
  {
   "cell_type": "markdown",
   "id": "ea3009c7",
   "metadata": {},
   "source": [
    "### Lists\n",
    "- A list is an ordered collection of elements. In other langauges you consider them as arrays but with more functionality.\n",
    "- Lists are mutable and changeable.\n",
    "- List is a Built-in Datatype in python"
   ]
  },
  {
   "cell_type": "code",
   "execution_count": 10,
   "id": "ade21126",
   "metadata": {},
   "outputs": [],
   "source": [
    "integer_list = [1,2,3]\n",
    "int_str_list = ['String',3, 4]\n",
    "list_of_lists = [integer_list, int_str_list, [2, 3, 4]]"
   ]
  },
  {
   "cell_type": "code",
   "execution_count": 11,
   "id": "e6868263",
   "metadata": {},
   "outputs": [
    {
     "data": {
      "text/plain": [
       "3"
      ]
     },
     "execution_count": 11,
     "metadata": {},
     "output_type": "execute_result"
    }
   ],
   "source": [
    "len(integer_list)\n"
   ]
  },
  {
   "cell_type": "code",
   "execution_count": 12,
   "id": "82bc3b5a",
   "metadata": {},
   "outputs": [
    {
     "data": {
      "text/plain": [
       "6"
      ]
     },
     "execution_count": 12,
     "metadata": {},
     "output_type": "execute_result"
    }
   ],
   "source": [
    "sum(integer_list)"
   ]
  },
  {
   "cell_type": "code",
   "execution_count": 13,
   "id": "04992087",
   "metadata": {},
   "outputs": [
    {
     "data": {
      "text/plain": [
       "3"
      ]
     },
     "execution_count": 13,
     "metadata": {},
     "output_type": "execute_result"
    }
   ],
   "source": [
    "integer_list[2]"
   ]
  },
  {
   "cell_type": "code",
   "execution_count": 14,
   "id": "427839fd",
   "metadata": {},
   "outputs": [
    {
     "data": {
      "text/plain": [
       "[1, 2, 3, ['Hello']]"
      ]
     },
     "execution_count": 14,
     "metadata": {},
     "output_type": "execute_result"
    }
   ],
   "source": [
    "integer_list.append([\"Hello\"])\n",
    "integer_list"
   ]
  },
  {
   "cell_type": "code",
   "execution_count": 15,
   "id": "d9b9aa81",
   "metadata": {},
   "outputs": [
    {
     "data": {
      "text/plain": [
       "['Hello']"
      ]
     },
     "execution_count": 15,
     "metadata": {},
     "output_type": "execute_result"
    }
   ],
   "source": [
    "integer_list.pop()"
   ]
  },
  {
   "cell_type": "code",
   "execution_count": 16,
   "id": "443dc79c",
   "metadata": {},
   "outputs": [],
   "source": [
    "integer_list.append(\"Python\")"
   ]
  },
  {
   "cell_type": "code",
   "execution_count": 17,
   "id": "e08d3ab1",
   "metadata": {},
   "outputs": [
    {
     "data": {
      "text/plain": [
       "[1, 2, 3, 'Python']"
      ]
     },
     "execution_count": 17,
     "metadata": {},
     "output_type": "execute_result"
    }
   ],
   "source": [
    "integer_list"
   ]
  },
  {
   "cell_type": "code",
   "execution_count": 18,
   "id": "580a3209",
   "metadata": {},
   "outputs": [],
   "source": [
    "integer_list[3] = \"Hello\""
   ]
  },
  {
   "cell_type": "code",
   "execution_count": 19,
   "id": "31a608a7",
   "metadata": {},
   "outputs": [
    {
     "data": {
      "text/plain": [
       "[1, 2, 3, 'Hello']"
      ]
     },
     "execution_count": 19,
     "metadata": {},
     "output_type": "execute_result"
    }
   ],
   "source": [
    "integer_list"
   ]
  },
  {
   "cell_type": "markdown",
   "id": "1d14db47",
   "metadata": {},
   "source": [
    "- Slicing\n",
    "-> We can use square brackets for slicing. Slicing __[ i : j ]__ here __i : j__ means, all the elements from __*i*__ (inclusively) to __*j*__ (not inclusive).\n",
    "-> If we keep the __i__ part blank, then we will slice from the beginning of the list and if we keep the __j__ part blank then we will be slicing till the end of the list. "
   ]
  },
  {
   "cell_type": "code",
   "execution_count": 20,
   "id": "79f9113c",
   "metadata": {},
   "outputs": [
    {
     "data": {
      "text/plain": [
       "[2, 3]"
      ]
     },
     "execution_count": 20,
     "metadata": {},
     "output_type": "execute_result"
    }
   ],
   "source": [
    "#one to three\n",
    "integer_list[1:3]"
   ]
  },
  {
   "cell_type": "code",
   "execution_count": 21,
   "id": "cd4c8e3e",
   "metadata": {},
   "outputs": [
    {
     "data": {
      "text/plain": [
       "[3, 'Hello']"
      ]
     },
     "execution_count": 21,
     "metadata": {},
     "output_type": "execute_result"
    }
   ],
   "source": [
    "#two to end of the list\n",
    "integer_list[2:]"
   ]
  },
  {
   "cell_type": "code",
   "execution_count": 22,
   "id": "7360d303",
   "metadata": {},
   "outputs": [
    {
     "data": {
      "text/plain": [
       "[1, 2, 3]"
      ]
     },
     "execution_count": 22,
     "metadata": {},
     "output_type": "execute_result"
    }
   ],
   "source": [
    "#from beginning to index value three\n",
    "integer_list[:3]"
   ]
  },
  {
   "cell_type": "code",
   "execution_count": 23,
   "id": "4caac59b",
   "metadata": {},
   "outputs": [
    {
     "data": {
      "text/plain": [
       "[2, 3, 'Hello']"
      ]
     },
     "execution_count": 23,
     "metadata": {},
     "output_type": "execute_result"
    }
   ],
   "source": [
    "#last three elements\n",
    "integer_list[-3:]"
   ]
  },
  {
   "cell_type": "code",
   "execution_count": 24,
   "id": "0849e3cb",
   "metadata": {},
   "outputs": [
    {
     "data": {
      "text/plain": [
       "[1]"
      ]
     },
     "execution_count": 24,
     "metadata": {},
     "output_type": "execute_result"
    }
   ],
   "source": [
    "#first th elements\n",
    "integer_list[:-3]"
   ]
  },
  {
   "cell_type": "code",
   "execution_count": 25,
   "id": "cc59f092",
   "metadata": {},
   "outputs": [
    {
     "data": {
      "text/plain": [
       "[1, 2, 3, 'Hello']"
      ]
     },
     "execution_count": 25,
     "metadata": {},
     "output_type": "execute_result"
    }
   ],
   "source": [
    "integer_list[:]"
   ]
  },
  {
   "cell_type": "markdown",
   "id": "f1b84052",
   "metadata": {},
   "source": [
    "- A slice can take a third argument to indicate its __*stride*__."
   ]
  },
  {
   "cell_type": "code",
   "execution_count": 26,
   "id": "12cf0010",
   "metadata": {},
   "outputs": [
    {
     "data": {
      "text/plain": [
       "[1, 3]"
      ]
     },
     "execution_count": 26,
     "metadata": {},
     "output_type": "execute_result"
    }
   ],
   "source": [
    "#every second element skipped\n",
    "integer_list[::2]"
   ]
  },
  {
   "cell_type": "code",
   "execution_count": 27,
   "id": "1bc3cfbf",
   "metadata": {},
   "outputs": [
    {
     "data": {
      "text/plain": [
       "[2, 'Hello']"
      ]
     },
     "execution_count": 27,
     "metadata": {},
     "output_type": "execute_result"
    }
   ],
   "source": [
    "integer_list[1:4:2]"
   ]
  },
  {
   "cell_type": "code",
   "execution_count": 28,
   "id": "a845e417",
   "metadata": {},
   "outputs": [
    {
     "data": {
      "text/plain": [
       "['Hello', 3, 2, 1]"
      ]
     },
     "execution_count": 28,
     "metadata": {},
     "output_type": "execute_result"
    }
   ],
   "source": [
    "integer_list[::-1]"
   ]
  },
  {
   "cell_type": "markdown",
   "id": "052c37b2",
   "metadata": {},
   "source": [
    "- Python has an __*in*__ operator to check specific conditions in a list.\n",
    "- Although, It should be noted that its easier to use this operator if the list is small, but if the list is large it will take a long time to get executed."
   ]
  },
  {
   "cell_type": "code",
   "execution_count": 29,
   "id": "7b3704a3",
   "metadata": {},
   "outputs": [
    {
     "data": {
      "text/plain": [
       "True"
      ]
     },
     "execution_count": 29,
     "metadata": {},
     "output_type": "execute_result"
    }
   ],
   "source": [
    "1 in integer_list"
   ]
  },
  {
   "cell_type": "code",
   "execution_count": 30,
   "id": "00bb2395",
   "metadata": {},
   "outputs": [
    {
     "data": {
      "text/plain": [
       "False"
      ]
     },
     "execution_count": 30,
     "metadata": {},
     "output_type": "execute_result"
    }
   ],
   "source": [
    "5 in integer_list"
   ]
  },
  {
   "cell_type": "markdown",
   "id": "09421ade",
   "metadata": {},
   "source": [
    "- We can use __*extend*__ function to concatenate lists or extend lists together."
   ]
  },
  {
   "cell_type": "code",
   "execution_count": 31,
   "id": "c0619e77",
   "metadata": {},
   "outputs": [
    {
     "data": {
      "text/plain": [
       "[1, 2, 3, 'Hello', 'String', 3, 4]"
      ]
     },
     "execution_count": 31,
     "metadata": {},
     "output_type": "execute_result"
    }
   ],
   "source": [
    "integer_list.extend(int_str_list)\n",
    "integer_list"
   ]
  },
  {
   "cell_type": "markdown",
   "id": "9c4ffe7a",
   "metadata": {},
   "source": [
    "- We can also use list addition"
   ]
  },
  {
   "cell_type": "code",
   "execution_count": 32,
   "id": "4b70ff1d",
   "metadata": {},
   "outputs": [],
   "source": [
    "x = [1,2,3]\n",
    "y = x + [4,5,6]"
   ]
  },
  {
   "cell_type": "code",
   "execution_count": 33,
   "id": "a9fa3fc0",
   "metadata": {},
   "outputs": [
    {
     "data": {
      "text/plain": [
       "[1, 2, 3, 4, 5, 6]"
      ]
     },
     "execution_count": 33,
     "metadata": {},
     "output_type": "execute_result"
    }
   ],
   "source": [
    "y"
   ]
  },
  {
   "cell_type": "code",
   "execution_count": 34,
   "id": "03af46ec",
   "metadata": {},
   "outputs": [
    {
     "data": {
      "text/plain": [
       "[1, 2, 3]"
      ]
     },
     "execution_count": 34,
     "metadata": {},
     "output_type": "execute_result"
    }
   ],
   "source": [
    "x"
   ]
  },
  {
   "cell_type": "code",
   "execution_count": 35,
   "id": "d9360a45",
   "metadata": {},
   "outputs": [
    {
     "data": {
      "text/plain": [
       "6"
      ]
     },
     "execution_count": 35,
     "metadata": {},
     "output_type": "execute_result"
    }
   ],
   "source": [
    "len(y)"
   ]
  },
  {
   "cell_type": "code",
   "execution_count": 36,
   "id": "1cd1c57a",
   "metadata": {},
   "outputs": [],
   "source": [
    "#will throw an if LHS is not equal to RHS\n",
    "x,y = [1,2]"
   ]
  },
  {
   "cell_type": "code",
   "execution_count": 37,
   "id": "e8bf7bd2",
   "metadata": {},
   "outputs": [],
   "source": [
    "#This command will throw error\n",
    "#x,y,z = [1,2]"
   ]
  },
  {
   "cell_type": "markdown",
   "id": "eb6943c7",
   "metadata": {},
   "source": [
    "### Tuple\n",
    "- Tuple is one of the 4 built-in Data types in python.\n",
    "- Tuple is used to store multiple values in a single variable.\n",
    "- Tuples are immutable (i.e) they cannot be changed."
   ]
  },
  {
   "cell_type": "code",
   "execution_count": 38,
   "id": "838a507b",
   "metadata": {},
   "outputs": [
    {
     "data": {
      "text/plain": [
       "(1, 2)"
      ]
     },
     "execution_count": 38,
     "metadata": {},
     "output_type": "execute_result"
    }
   ],
   "source": [
    "tuple1 = (1,2)\n",
    "tuple1"
   ]
  },
  {
   "cell_type": "code",
   "execution_count": 39,
   "id": "52f28f2a",
   "metadata": {},
   "outputs": [
    {
     "data": {
      "text/plain": [
       "(1, 2, 3, 4)"
      ]
     },
     "execution_count": 39,
     "metadata": {},
     "output_type": "execute_result"
    }
   ],
   "source": [
    "tuple2 = (3,4)\n",
    "\n",
    "tuple3 = tuple1 + tuple2\n",
    "tuple3"
   ]
  },
  {
   "cell_type": "code",
   "execution_count": 40,
   "id": "3ee68f45",
   "metadata": {},
   "outputs": [
    {
     "name": "stdout",
     "output_type": "stream",
     "text": [
      "Tuples cannot be modified\n"
     ]
    }
   ],
   "source": [
    "try:\n",
    "    tuple1[1] = 4\n",
    "except TypeError:\n",
    "    print(\"Tuples cannot be modified\")"
   ]
  },
  {
   "cell_type": "markdown",
   "id": "a2d5e1a1",
   "metadata": {},
   "source": [
    "- Tuples are a convinient way to return multiple values from functions"
   ]
  },
  {
   "cell_type": "code",
   "execution_count": 41,
   "id": "3b487977",
   "metadata": {},
   "outputs": [],
   "source": [
    "def tuple_op(x,y):\n",
    "    return (x + y),(x * y)"
   ]
  },
  {
   "cell_type": "code",
   "execution_count": 42,
   "id": "22552fb8",
   "metadata": {},
   "outputs": [
    {
     "data": {
      "text/plain": [
       "(11, 30)"
      ]
     },
     "execution_count": 42,
     "metadata": {},
     "output_type": "execute_result"
    }
   ],
   "source": [
    "val1 = tuple_op(5,6)\n",
    "val1"
   ]
  },
  {
   "cell_type": "code",
   "execution_count": 43,
   "id": "f3ebe75f",
   "metadata": {},
   "outputs": [
    {
     "name": "stdout",
     "output_type": "stream",
     "text": [
      "110\n",
      "1000\n"
     ]
    }
   ],
   "source": [
    "val2, val3 = tuple_op(10,100)\n",
    "print(val2)\n",
    "print(val3)"
   ]
  },
  {
   "cell_type": "markdown",
   "id": "5c469fa1",
   "metadata": {},
   "source": [
    "### Dictionary \n",
    "- Dictionary is a fundamental built-in Data type which consists of __*Key : Value*__ pair.\n",
    "- Dictionary is an unordered collection of data values and generally used to store values like a map.\n",
    "- __*dict*__ keyword is used to declare a dictionary. Sometimes we can even use __{ }__ for the same."
   ]
  },
  {
   "cell_type": "code",
   "execution_count": 44,
   "id": "988fcd6b",
   "metadata": {},
   "outputs": [
    {
     "name": "stdout",
     "output_type": "stream",
     "text": [
      "{}\n",
      "{}\n"
     ]
    }
   ],
   "source": [
    "empty_dict = {}\n",
    "empty_dict2 = dict()\n",
    "\n",
    "print(empty_dict)\n",
    "print(empty_dict2)\n"
   ]
  },
  {
   "cell_type": "code",
   "execution_count": 45,
   "id": "4d50ab1d",
   "metadata": {},
   "outputs": [],
   "source": [
    "grades = {\"A\" : 80, \"B\" : 90, \"C\" : 25}"
   ]
  },
  {
   "cell_type": "code",
   "execution_count": 46,
   "id": "3722371a",
   "metadata": {},
   "outputs": [
    {
     "data": {
      "text/plain": [
       "25"
      ]
     },
     "execution_count": 46,
     "metadata": {},
     "output_type": "execute_result"
    }
   ],
   "source": [
    "grades[\"C\"]"
   ]
  },
  {
   "cell_type": "code",
   "execution_count": 47,
   "id": "b2e47482",
   "metadata": {},
   "outputs": [
    {
     "name": "stdout",
     "output_type": "stream",
     "text": [
      "No Key Found\n"
     ]
    }
   ],
   "source": [
    "try:\n",
    "    grades[\"D\"]\n",
    "except:\n",
    "    print(\"No Key Found\")"
   ]
  },
  {
   "cell_type": "code",
   "execution_count": 48,
   "id": "8b5fb12c",
   "metadata": {},
   "outputs": [
    {
     "data": {
      "text/plain": [
       "True"
      ]
     },
     "execution_count": 48,
     "metadata": {},
     "output_type": "execute_result"
    }
   ],
   "source": [
    "\"A\" in grades"
   ]
  },
  {
   "cell_type": "code",
   "execution_count": 49,
   "id": "5be6c6b2",
   "metadata": {},
   "outputs": [
    {
     "data": {
      "text/plain": [
       "False"
      ]
     },
     "execution_count": 49,
     "metadata": {},
     "output_type": "execute_result"
    }
   ],
   "source": [
    "\"D\" in grades"
   ]
  },
  {
   "cell_type": "markdown",
   "id": "eac482eb",
   "metadata": {},
   "source": [
    "Membership Check in dictionary is very fast, even if the dictionary is bigger the calculation takes less amount of time."
   ]
  },
  {
   "cell_type": "code",
   "execution_count": 50,
   "id": "152690eb",
   "metadata": {},
   "outputs": [],
   "source": [
    "#adding new key:value pair in dictionary\n",
    "\n",
    "grades[\"D\"] = 50\n",
    "grades[\"E\"] = 60"
   ]
  },
  {
   "cell_type": "code",
   "execution_count": 51,
   "id": "a14a79cc",
   "metadata": {},
   "outputs": [
    {
     "name": "stdout",
     "output_type": "stream",
     "text": [
      "{'A': 80, 'B': 90, 'C': 25, 'D': 50, 'E': 60}\n"
     ]
    },
    {
     "data": {
      "text/plain": [
       "5"
      ]
     },
     "execution_count": 51,
     "metadata": {},
     "output_type": "execute_result"
    }
   ],
   "source": [
    "print(grades)\n",
    "len(grades)"
   ]
  },
  {
   "cell_type": "code",
   "execution_count": 52,
   "id": "044ed364",
   "metadata": {},
   "outputs": [
    {
     "name": "stdout",
     "output_type": "stream",
     "text": [
      "dict_keys(['A', 'B', 'C', 'D', 'E'])\n",
      "dict_values([80, 90, 25, 50, 60])\n",
      "dict_items([('A', 80), ('B', 90), ('C', 25), ('D', 50), ('E', 60)])\n"
     ]
    }
   ],
   "source": [
    "grade_keys = grades.keys()\n",
    "print(grade_keys)\n",
    "\n",
    "grade_values = grades.values()\n",
    "print(grade_values)\n",
    "\n",
    "grade_items = grades.items()\n",
    "print(grade_items)"
   ]
  },
  {
   "cell_type": "markdown",
   "id": "7fcdcaaf",
   "metadata": {},
   "source": [
    "# Note:\n",
    "#### Dictionary Key must always be Hashable. \n",
    "- Hashable means the values stays the same for the entire lifetime of the variable."
   ]
  },
  {
   "cell_type": "markdown",
   "id": "6d9961e7",
   "metadata": {},
   "source": [
    "#### defaultdict\n",
    "- Imagine trying to count the words in a document.\n",
    "- First Approach"
   ]
  },
  {
   "cell_type": "code",
   "execution_count": 53,
   "id": "96409527",
   "metadata": {},
   "outputs": [],
   "source": [
    "document = \"Hello world! I am Sudhanshu Mukherjee. Let's learn python together.\"\n",
    "document1 = [\"Hello\", \"World\", \"Let's\", \"Learn\", \"Python\", \"Create\", \"This\", \"World\"]\n",
    "\n",
    "word_counts = {}\n",
    "for word in document1:\n",
    "    if word in word_counts:\n",
    "        word_counts[word] += 1\n",
    "    else:\n",
    "        word_counts[word] = 1"
   ]
  },
  {
   "cell_type": "code",
   "execution_count": 54,
   "id": "ba506355",
   "metadata": {},
   "outputs": [
    {
     "name": "stdout",
     "output_type": "stream",
     "text": [
      "{'Hello': 1, 'World': 2, \"Let's\": 1, 'Learn': 1, 'Python': 1, 'Create': 1, 'This': 1}\n"
     ]
    }
   ],
   "source": [
    "print(word_counts)"
   ]
  },
  {
   "cell_type": "markdown",
   "id": "b81d59ae",
   "metadata": {},
   "source": [
    "- __*Forgiveness is better than permission approach*__\n",
    "- Second Approach"
   ]
  },
  {
   "cell_type": "code",
   "execution_count": 55,
   "id": "e4d8fb89",
   "metadata": {},
   "outputs": [],
   "source": [
    "document1 = [\"Hello\", \"World\", \"Let's\", \"Learn\",\"Learn\",\"Python\",\"Hello\", \"Python\", \"Create\", \"This\", \"World\"]\n",
    "\n",
    "word_count = {}\n",
    "for word in document1:\n",
    "    try:\n",
    "        word_count[word] += 1\n",
    "    except KeyError:\n",
    "        word_count[word] = 1"
   ]
  },
  {
   "cell_type": "code",
   "execution_count": 56,
   "id": "9c530627",
   "metadata": {},
   "outputs": [
    {
     "name": "stdout",
     "output_type": "stream",
     "text": [
      "{'Hello': 2, 'World': 2, \"Let's\": 1, 'Learn': 2, 'Python': 2, 'Create': 1, 'This': 1}\n"
     ]
    }
   ],
   "source": [
    "print(word_count)"
   ]
  },
  {
   "cell_type": "markdown",
   "id": "2f12a65d",
   "metadata": {},
   "source": [
    "- Third Approach : In third approach we will be using __*get*__ which works perfectly for missing values."
   ]
  },
  {
   "cell_type": "code",
   "execution_count": 57,
   "id": "41d2e5f8",
   "metadata": {},
   "outputs": [],
   "source": [
    "word_counts1 = {}\n",
    "for word in document1:\n",
    "    previous_count = word_counts1.get(word,0)\n",
    "    word_counts1[word] = previous_count + 1"
   ]
  },
  {
   "cell_type": "code",
   "execution_count": 58,
   "id": "65f68c8d",
   "metadata": {},
   "outputs": [
    {
     "name": "stdout",
     "output_type": "stream",
     "text": [
      "{'Hello': 2, 'World': 2, \"Let's\": 1, 'Learn': 2, 'Python': 2, 'Create': 1, 'This': 1}\n"
     ]
    }
   ],
   "source": [
    "print(word_counts1)"
   ]
  },
  {
   "cell_type": "markdown",
   "id": "b3cbcc2b",
   "metadata": {},
   "source": [
    "### defaultdict\n",
    "- Default dict is just like a normal dictionary except if you try to access or modify a missing key, then defaultdict will automatically create the key and generate a default value for it.\n",
    "- In order to access default dictionary, we must import it from the collections."
   ]
  },
  {
   "cell_type": "code",
   "execution_count": 59,
   "id": "09a370a0",
   "metadata": {},
   "outputs": [],
   "source": [
    "from collections import defaultdict\n",
    "\n",
    "word_counts2 = defaultdict(int)\n",
    "for word in document1:\n",
    "    word_counts2[word] += 1"
   ]
  },
  {
   "cell_type": "code",
   "execution_count": 60,
   "id": "4af6515c",
   "metadata": {},
   "outputs": [
    {
     "name": "stdout",
     "output_type": "stream",
     "text": [
      "defaultdict(<class 'int'>, {'Hello': 2, 'World': 2, \"Let's\": 1, 'Learn': 2, 'Python': 2, 'Create': 1, 'This': 1})\n"
     ]
    }
   ],
   "source": [
    "print(word_counts2)"
   ]
  },
  {
   "cell_type": "markdown",
   "id": "d9b1159a",
   "metadata": {},
   "source": [
    "- They can be useful with list or dict or even our own functions"
   ]
  },
  {
   "cell_type": "code",
   "execution_count": 61,
   "id": "ae4db5a7",
   "metadata": {},
   "outputs": [
    {
     "name": "stdout",
     "output_type": "stream",
     "text": [
      "defaultdict(<class 'list'>, {2: [1]})\n"
     ]
    }
   ],
   "source": [
    "dd_list = defaultdict(list)\n",
    "dd_list[2].append(1)\n",
    "print(dd_list)"
   ]
  },
  {
   "cell_type": "code",
   "execution_count": 62,
   "id": "0210630b",
   "metadata": {},
   "outputs": [
    {
     "name": "stdout",
     "output_type": "stream",
     "text": [
      "defaultdict(<class 'dict'>, {'Sud': {'City': 'Nagpur'}})\n"
     ]
    }
   ],
   "source": [
    "dd_dict = defaultdict(dict)\n",
    "dd_dict[\"Sud\"][\"City\"] = \"Nagpur\"\n",
    "print(dd_dict)"
   ]
  },
  {
   "cell_type": "code",
   "execution_count": 63,
   "id": "6d0aef29",
   "metadata": {},
   "outputs": [
    {
     "name": "stdout",
     "output_type": "stream",
     "text": [
      "defaultdict(<function <lambda> at 0x00000173C786C040>, {2: [0, 3]})\n"
     ]
    }
   ],
   "source": [
    "dd_pair = defaultdict(lambda: [0,0])\n",
    "dd_pair[2][1] = 3\n",
    "print(dd_pair)"
   ]
  },
  {
   "cell_type": "markdown",
   "id": "774a22e0",
   "metadata": {},
   "source": [
    "### Counters \n",
    "- A counter is a dict subclass for counting hashable objects.\n",
    "- It is a collection where its elements are stored as keys and their count is stored as values."
   ]
  },
  {
   "cell_type": "code",
   "execution_count": 64,
   "id": "05bbe3d1",
   "metadata": {},
   "outputs": [],
   "source": [
    "from collections import Counter\n",
    "c = Counter([0, 1, 2, 0])       #c is {0:2, 1:1, 2:1}"
   ]
  },
  {
   "cell_type": "code",
   "execution_count": 65,
   "id": "57e8c40b",
   "metadata": {},
   "outputs": [],
   "source": [
    "document = [\"Hello\",\"World\",\"World\",\"Python\",\"Hello\",\"Hi\",\"Hey\",\"Heya\"]"
   ]
  },
  {
   "cell_type": "code",
   "execution_count": 66,
   "id": "21978eba",
   "metadata": {},
   "outputs": [
    {
     "name": "stdout",
     "output_type": "stream",
     "text": [
      "Counter({'Hello': 2, 'World': 2, 'Python': 1, 'Hi': 1, 'Hey': 1, 'Heya': 1})\n"
     ]
    }
   ],
   "source": [
    "word_counts = Counter(document)\n",
    "print(word_counts)"
   ]
  },
  {
   "cell_type": "markdown",
   "id": "d1c3a40b",
   "metadata": {},
   "source": [
    "- A Counter instance has __*most_common*__ method that is frequently useful"
   ]
  },
  {
   "cell_type": "code",
   "execution_count": 67,
   "id": "1f3a017f",
   "metadata": {},
   "outputs": [
    {
     "name": "stdout",
     "output_type": "stream",
     "text": [
      "Hello 2\n",
      "World 2\n",
      "Python 1\n",
      "Hi 1\n",
      "Hey 1\n",
      "Heya 1\n"
     ]
    }
   ],
   "source": [
    "for word,count in word_counts.most_common():\n",
    "    print(word,count)"
   ]
  },
  {
   "cell_type": "code",
   "execution_count": null,
   "id": "7d49e33b",
   "metadata": {},
   "outputs": [],
   "source": []
  },
  {
   "cell_type": "code",
   "execution_count": null,
   "id": "9def65ef",
   "metadata": {},
   "outputs": [],
   "source": []
  },
  {
   "cell_type": "code",
   "execution_count": null,
   "id": "7644b262",
   "metadata": {},
   "outputs": [],
   "source": []
  },
  {
   "cell_type": "code",
   "execution_count": null,
   "id": "87c12190",
   "metadata": {},
   "outputs": [],
   "source": []
  },
  {
   "cell_type": "code",
   "execution_count": null,
   "id": "2229a7a4",
   "metadata": {},
   "outputs": [],
   "source": []
  },
  {
   "cell_type": "code",
   "execution_count": null,
   "id": "b2999cbc",
   "metadata": {},
   "outputs": [],
   "source": []
  },
  {
   "cell_type": "markdown",
   "id": "5e5b78a3",
   "metadata": {},
   "source": []
  }
 ],
 "metadata": {
  "kernelspec": {
   "display_name": "Python 3 (ipykernel)",
   "language": "python",
   "name": "python3"
  },
  "language_info": {
   "codemirror_mode": {
    "name": "ipython",
    "version": 3
   },
   "file_extension": ".py",
   "mimetype": "text/x-python",
   "name": "python",
   "nbconvert_exporter": "python",
   "pygments_lexer": "ipython3",
   "version": "3.9.7"
  }
 },
 "nbformat": 4,
 "nbformat_minor": 5
}
