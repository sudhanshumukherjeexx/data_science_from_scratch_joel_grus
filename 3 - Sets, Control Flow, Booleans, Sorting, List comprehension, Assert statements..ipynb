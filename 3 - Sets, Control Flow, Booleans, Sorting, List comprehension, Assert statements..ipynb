{
 "cells": [
  {
   "cell_type": "markdown",
   "id": "a47d1616",
   "metadata": {},
   "source": [
    "### SETS\n",
    "- Set is a built-in python Data type which represents a collection of distinct elements.\n",
    "- We can define a set by listing elements inside curly braces"
   ]
  },
  {
   "cell_type": "code",
   "execution_count": 10,
   "id": "096ae411",
   "metadata": {},
   "outputs": [],
   "source": [
    "s = set()"
   ]
  },
  {
   "cell_type": "code",
   "execution_count": 11,
   "id": "81857c38",
   "metadata": {},
   "outputs": [
    {
     "name": "stdout",
     "output_type": "stream",
     "text": [
      "set()\n"
     ]
    }
   ],
   "source": [
    "print(s)"
   ]
  },
  {
   "cell_type": "code",
   "execution_count": 13,
   "id": "c4f47c34",
   "metadata": {},
   "outputs": [
    {
     "name": "stdout",
     "output_type": "stream",
     "text": [
      "{1}\n"
     ]
    }
   ],
   "source": [
    "s.add(1)\n",
    "print(s)"
   ]
  },
  {
   "cell_type": "code",
   "execution_count": 14,
   "id": "9da6cdde",
   "metadata": {},
   "outputs": [
    {
     "name": "stdout",
     "output_type": "stream",
     "text": [
      "{1, 2}\n"
     ]
    }
   ],
   "source": [
    "s.add(2)\n",
    "print(s)"
   ]
  },
  {
   "cell_type": "code",
   "execution_count": 15,
   "id": "6047a1cd",
   "metadata": {},
   "outputs": [
    {
     "name": "stdout",
     "output_type": "stream",
     "text": [
      "{1, 2}\n"
     ]
    }
   ],
   "source": [
    "s.add(2)\n",
    "print(s)"
   ]
  },
  {
   "cell_type": "code",
   "execution_count": 16,
   "id": "4d1a9bbd",
   "metadata": {},
   "outputs": [
    {
     "name": "stdout",
     "output_type": "stream",
     "text": [
      "{1, 2, 3}\n"
     ]
    }
   ],
   "source": [
    "s.add(3)\n",
    "print(s)"
   ]
  },
  {
   "cell_type": "code",
   "execution_count": 17,
   "id": "38171269",
   "metadata": {},
   "outputs": [
    {
     "data": {
      "text/plain": [
       "3"
      ]
     },
     "execution_count": 17,
     "metadata": {},
     "output_type": "execute_result"
    }
   ],
   "source": [
    "len(s)"
   ]
  },
  {
   "cell_type": "code",
   "execution_count": 18,
   "id": "25b00df3",
   "metadata": {},
   "outputs": [
    {
     "data": {
      "text/plain": [
       "True"
      ]
     },
     "execution_count": 18,
     "metadata": {},
     "output_type": "execute_result"
    }
   ],
   "source": [
    "2 in s"
   ]
  },
  {
   "cell_type": "code",
   "execution_count": 19,
   "id": "a862acb9",
   "metadata": {},
   "outputs": [
    {
     "data": {
      "text/plain": [
       "False"
      ]
     },
     "execution_count": 19,
     "metadata": {},
     "output_type": "execute_result"
    }
   ],
   "source": [
    "5 in s"
   ]
  },
  {
   "cell_type": "markdown",
   "id": "5cb7e8a5",
   "metadata": {},
   "source": [
    "Sets are generally used for two main reason:\n",
    "- Operations on sets using __*in*__ operator is extremely fast.\n",
    "- To find __*distinct items*__ in a collection \n",
    "\n",
    "Although SETS are used less frequently than Lists and Dictionaries"
   ]
  },
  {
   "cell_type": "code",
   "execution_count": 20,
   "id": "71dcc5b1",
   "metadata": {},
   "outputs": [
    {
     "name": "stdout",
     "output_type": "stream",
     "text": [
      "['Hi', 'Hello', 'Hey', 'bye', 'bbye', 'by']\n"
     ]
    }
   ],
   "source": [
    "stopwords_list = [\"Hi\", \"Hello\", \"Hey\"] + [\"bye\",\"bbye\",\"by\"]\n",
    "print(stopwords_list)"
   ]
  },
  {
   "cell_type": "code",
   "execution_count": 24,
   "id": "5a9eeaa4",
   "metadata": {},
   "outputs": [
    {
     "data": {
      "text/plain": [
       "False"
      ]
     },
     "execution_count": 24,
     "metadata": {},
     "output_type": "execute_result"
    }
   ],
   "source": [
    "#this operation is slow because here it has to check every element\n",
    "\"heya\" in stopwords_list"
   ]
  },
  {
   "cell_type": "code",
   "execution_count": 25,
   "id": "d2a76ade",
   "metadata": {},
   "outputs": [
    {
     "name": "stdout",
     "output_type": "stream",
     "text": [
      "{'by', 'bye', 'Hi', 'Hello', 'bbye', 'Hey'}\n"
     ]
    }
   ],
   "source": [
    "#this operation is extremely fast\n",
    "stopwords_set = set(stopwords_list)\n",
    "print(stopwords_set)"
   ]
  },
  {
   "cell_type": "markdown",
   "id": "b93a5739",
   "metadata": {},
   "source": [
    "### Control Flow\n",
    "- if loop \n",
    "- while loop\n",
    "- for loop\n",
    "\n",
    "### if loop"
   ]
  },
  {
   "cell_type": "code",
   "execution_count": 26,
   "id": "d8013c46",
   "metadata": {},
   "outputs": [
    {
     "name": "stdout",
     "output_type": "stream",
     "text": [
      "Nobody cares\n"
     ]
    }
   ],
   "source": [
    "if 2 > 3:\n",
    "    print(\"2 is not greater than 3\")\n",
    "elif 2 > 5:\n",
    "    print(\"2 is not greater than 5\")\n",
    "else:\n",
    "    print(\"Nobody cares\")"
   ]
  },
  {
   "cell_type": "markdown",
   "id": "ee21f777",
   "metadata": {},
   "source": [
    "- Sometimes we can write __*if-then-else*__ on one line"
   ]
  },
  {
   "cell_type": "code",
   "execution_count": 29,
   "id": "252cc004",
   "metadata": {},
   "outputs": [
    {
     "name": "stdout",
     "output_type": "stream",
     "text": [
      "Enter your number: 12\n",
      "x is even\n"
     ]
    }
   ],
   "source": [
    "x = int(input(\"Enter your number: \"))\n",
    "score = \"x is even\" if x % 2 == 0 else \"odd\" \n",
    "print(score)"
   ]
  },
  {
   "cell_type": "markdown",
   "id": "ecad7528",
   "metadata": {},
   "source": [
    "### While loop"
   ]
  },
  {
   "cell_type": "code",
   "execution_count": 35,
   "id": "d3760582",
   "metadata": {},
   "outputs": [
    {
     "name": "stdout",
     "output_type": "stream",
     "text": [
      "1 is less than 10\n",
      "2 is less than 10\n",
      "3 is less than 10\n",
      "4 is less than 10\n",
      "5 is less than 10\n",
      "6 is less than 10\n",
      "7 is less than 10\n",
      "8 is less than 10\n",
      "9 is less than 10\n"
     ]
    }
   ],
   "source": [
    "x = 1\n",
    "while x < 10:\n",
    "    print(f\"{x} is less than 10\")\n",
    "    x += 1"
   ]
  },
  {
   "cell_type": "markdown",
   "id": "aa5f55a5",
   "metadata": {},
   "source": [
    "### For loop"
   ]
  },
  {
   "cell_type": "code",
   "execution_count": 36,
   "id": "24ea59e9",
   "metadata": {},
   "outputs": [
    {
     "name": "stdout",
     "output_type": "stream",
     "text": [
      "0 is less than 10\n",
      "1 is less than 10\n",
      "2 is less than 10\n",
      "3 is less than 10\n",
      "4 is less than 10\n",
      "5 is less than 10\n",
      "6 is less than 10\n",
      "7 is less than 10\n",
      "8 is less than 10\n",
      "9 is less than 10\n"
     ]
    }
   ],
   "source": [
    "for x in range(10):\n",
    "    print(f\"{x} is less than 10\")"
   ]
  },
  {
   "cell_type": "code",
   "execution_count": 37,
   "id": "a2f3766b",
   "metadata": {},
   "outputs": [
    {
     "name": "stdout",
     "output_type": "stream",
     "text": [
      "0\n",
      "1\n",
      "2\n",
      "X equal to 3 found\n",
      "4\n",
      "X equal to 5 found\n"
     ]
    }
   ],
   "source": [
    "for x in range(10):\n",
    "    if x == 3:\n",
    "        print(\"X equal to 3 found\")\n",
    "        continue\n",
    "    if x == 5:\n",
    "        print(\"X equal to 5 found\")\n",
    "        break\n",
    "    print(x)"
   ]
  },
  {
   "cell_type": "markdown",
   "id": "237757b6",
   "metadata": {},
   "source": [
    "### Truthiness\n",
    "- __*Booleans*__ in python work similar to other languages except they are capitalized in python.\n",
    "- Python uses __*NONE*__ to indicate nonexistent value, and also NONE is similar to NULL. "
   ]
  },
  {
   "cell_type": "code",
   "execution_count": 39,
   "id": "7670f623",
   "metadata": {},
   "outputs": [
    {
     "data": {
      "text/plain": [
       "False"
      ]
     },
     "execution_count": 39,
     "metadata": {},
     "output_type": "execute_result"
    }
   ],
   "source": [
    "False"
   ]
  },
  {
   "cell_type": "code",
   "execution_count": 44,
   "id": "c6bcec49",
   "metadata": {},
   "outputs": [
    {
     "name": "stdout",
     "output_type": "stream",
     "text": [
      "False\n"
     ]
    }
   ],
   "source": [
    "print(None is True)"
   ]
  },
  {
   "cell_type": "code",
   "execution_count": 43,
   "id": "3f2c05fc",
   "metadata": {},
   "outputs": [
    {
     "name": "stdout",
     "output_type": "stream",
     "text": [
      "False\n"
     ]
    }
   ],
   "source": [
    "print([] is True)"
   ]
  },
  {
   "cell_type": "code",
   "execution_count": 45,
   "id": "4c22a70a",
   "metadata": {},
   "outputs": [
    {
     "name": "stdout",
     "output_type": "stream",
     "text": [
      "False\n"
     ]
    }
   ],
   "source": [
    "print({} is True)"
   ]
  },
  {
   "cell_type": "code",
   "execution_count": 46,
   "id": "8c90fc66",
   "metadata": {},
   "outputs": [
    {
     "name": "stdout",
     "output_type": "stream",
     "text": [
      "False\n"
     ]
    },
    {
     "name": "stderr",
     "output_type": "stream",
     "text": [
      "<>:1: SyntaxWarning: \"is\" with a literal. Did you mean \"==\"?\n",
      "<>:1: SyntaxWarning: \"is\" with a literal. Did you mean \"==\"?\n",
      "C:\\Users\\Asus\\AppData\\Local\\Temp/ipykernel_13088/1556157383.py:1: SyntaxWarning: \"is\" with a literal. Did you mean \"==\"?\n",
      "  print(\"\" is True)\n"
     ]
    }
   ],
   "source": [
    "print(\"\" is True)"
   ]
  },
  {
   "cell_type": "code",
   "execution_count": 47,
   "id": "94a2925f",
   "metadata": {},
   "outputs": [
    {
     "name": "stdout",
     "output_type": "stream",
     "text": [
      "False\n"
     ]
    }
   ],
   "source": [
    "print(set() is True)"
   ]
  },
  {
   "cell_type": "code",
   "execution_count": 53,
   "id": "288ba0f8",
   "metadata": {},
   "outputs": [
    {
     "name": "stdout",
     "output_type": "stream",
     "text": [
      "False\n"
     ]
    },
    {
     "name": "stderr",
     "output_type": "stream",
     "text": [
      "<>:1: SyntaxWarning: \"is\" with a literal. Did you mean \"==\"?\n",
      "<>:1: SyntaxWarning: \"is\" with a literal. Did you mean \"==\"?\n",
      "C:\\Users\\Asus\\AppData\\Local\\Temp/ipykernel_13088/1662916578.py:1: SyntaxWarning: \"is\" with a literal. Did you mean \"==\"?\n",
      "  print(0 is True)\n"
     ]
    }
   ],
   "source": [
    "print(0 is True)"
   ]
  },
  {
   "cell_type": "code",
   "execution_count": 51,
   "id": "a290d611",
   "metadata": {},
   "outputs": [
    {
     "name": "stdout",
     "output_type": "stream",
     "text": [
      "False\n"
     ]
    },
    {
     "name": "stderr",
     "output_type": "stream",
     "text": [
      "<>:1: SyntaxWarning: \"is\" with a literal. Did you mean \"==\"?\n",
      "<>:1: SyntaxWarning: \"is\" with a literal. Did you mean \"==\"?\n",
      "C:\\Users\\Asus\\AppData\\Local\\Temp/ipykernel_13088/2408988814.py:1: SyntaxWarning: \"is\" with a literal. Did you mean \"==\"?\n",
      "  print(0.0 is True)\n"
     ]
    }
   ],
   "source": [
    "print(0.0 is True)"
   ]
  },
  {
   "cell_type": "markdown",
   "id": "ed0c173c",
   "metadata": {},
   "source": [
    "- Sometimes it lets us easily use if statements to test for empty lists, empty strings, empty dictionaries, and so on.\n",
    "- Python has two functions __*all*__ and __*any*__, where all returns True when all the elments are True and Any returns True when any of the element is True."
   ]
  },
  {
   "cell_type": "code",
   "execution_count": 55,
   "id": "80b8f01e",
   "metadata": {},
   "outputs": [
    {
     "data": {
      "text/plain": [
       "True"
      ]
     },
     "execution_count": 55,
     "metadata": {},
     "output_type": "execute_result"
    }
   ],
   "source": [
    "all([True, 1, {3}])\n"
   ]
  },
  {
   "cell_type": "code",
   "execution_count": 56,
   "id": "1dce9e3e",
   "metadata": {},
   "outputs": [
    {
     "data": {
      "text/plain": [
       "False"
      ]
     },
     "execution_count": 56,
     "metadata": {},
     "output_type": "execute_result"
    }
   ],
   "source": [
    "all([True, 1, {}])"
   ]
  },
  {
   "cell_type": "code",
   "execution_count": 58,
   "id": "14b0193c",
   "metadata": {},
   "outputs": [
    {
     "data": {
      "text/plain": [
       "True"
      ]
     },
     "execution_count": 58,
     "metadata": {},
     "output_type": "execute_result"
    }
   ],
   "source": [
    "any([True, 1, {}])"
   ]
  },
  {
   "cell_type": "code",
   "execution_count": 59,
   "id": "1b803ba9",
   "metadata": {},
   "outputs": [
    {
     "data": {
      "text/plain": [
       "True"
      ]
     },
     "execution_count": 59,
     "metadata": {},
     "output_type": "execute_result"
    }
   ],
   "source": [
    "all([])"
   ]
  },
  {
   "cell_type": "code",
   "execution_count": 60,
   "id": "dde5d022",
   "metadata": {},
   "outputs": [
    {
     "data": {
      "text/plain": [
       "False"
      ]
     },
     "execution_count": 60,
     "metadata": {},
     "output_type": "execute_result"
    }
   ],
   "source": [
    "any([])"
   ]
  },
  {
   "cell_type": "markdown",
   "id": "44da1461",
   "metadata": {},
   "source": [
    "### Sorting\n",
    "- Every list has __*sort*__ method that sorts it in place. If you donot want to change the list, then we can use sorted function which returns us the new sorted list"
   ]
  },
  {
   "cell_type": "code",
   "execution_count": 65,
   "id": "514faadb",
   "metadata": {},
   "outputs": [
    {
     "name": "stdout",
     "output_type": "stream",
     "text": [
      "[9, 7, 5, 3, 2, 1]\n",
      "---------------------------\n",
      "[1, 2, 3, 5, 7, 9]\n",
      "---------------------------\n",
      "[1, 2, 3, 5, 7, 9]\n"
     ]
    }
   ],
   "source": [
    "x = [9,7,5,3,2,1]\n",
    "print(x)\n",
    "print(\"---------------------------\")\n",
    "y = sorted(x)\n",
    "print(y)\n",
    "print(\"---------------------------\")\n",
    "x.sort()\n",
    "print(x)"
   ]
  },
  {
   "cell_type": "markdown",
   "id": "b1993dee",
   "metadata": {},
   "source": [
    "- Sort or Sorted function, sort a list from smallest to largest by default. Although, if we want to sort a list from largest to smallest we can do it by passing an argument __*reverse == True*__"
   ]
  },
  {
   "cell_type": "code",
   "execution_count": 68,
   "id": "58d0aeb3",
   "metadata": {},
   "outputs": [
    {
     "name": "stdout",
     "output_type": "stream",
     "text": [
      "[-4, 1, -2, 5, -6]\n",
      "---------------------------\n",
      "[-6, 5, -4, -2, 1]\n"
     ]
    }
   ],
   "source": [
    "#sort the list byabsolute value from largest to smallest\n",
    "x = [-4, 1, -2, 5, -6]\n",
    "print(x)\n",
    "print(\"---------------------------\")\n",
    "x.sort(key=abs,reverse=True)\n",
    "print(x)"
   ]
  },
  {
   "cell_type": "code",
   "execution_count": 75,
   "id": "0b55c514",
   "metadata": {},
   "outputs": [
    {
     "name": "stdout",
     "output_type": "stream",
     "text": [
      "[('Hello', 2), ('World', 2), ('Python', 1), ('Hi', 1), ('Hey', 1), ('Heya', 1)]\n"
     ]
    }
   ],
   "source": [
    "wc = sorted(word_counts.items(),\n",
    "           key=lambda word_and_count: word_and_count[1],\n",
    "           reverse=True)\n",
    "print(wc)"
   ]
  },
  {
   "cell_type": "markdown",
   "id": "78867fc2",
   "metadata": {},
   "source": [
    "### List Comprehension\n",
    "- List comprehension is used to create a new list based on the previous with a shorter syntax."
   ]
  },
  {
   "cell_type": "code",
   "execution_count": 76,
   "id": "00bf64f1",
   "metadata": {},
   "outputs": [
    {
     "name": "stdout",
     "output_type": "stream",
     "text": [
      "[0, 2, 4]\n"
     ]
    }
   ],
   "source": [
    "#example\n",
    "\n",
    "even_numbers = [x for x in range(5) if x%2==0]\n",
    "print(even_numbers)"
   ]
  },
  {
   "cell_type": "code",
   "execution_count": 77,
   "id": "cdda97f1",
   "metadata": {},
   "outputs": [
    {
     "name": "stdout",
     "output_type": "stream",
     "text": [
      "[0, 1, 4, 9, 16]\n"
     ]
    }
   ],
   "source": [
    "#squares\n",
    "\n",
    "squares = [x * x for x in range(5)]\n",
    "print(squares)"
   ]
  },
  {
   "cell_type": "code",
   "execution_count": 80,
   "id": "7c89857a",
   "metadata": {},
   "outputs": [
    {
     "name": "stdout",
     "output_type": "stream",
     "text": [
      "[0, 4, 16]\n"
     ]
    }
   ],
   "source": [
    "#example\n",
    "even_squares = [x * x for x in even_numbers]\n",
    "print(even_squares)"
   ]
  },
  {
   "cell_type": "code",
   "execution_count": 83,
   "id": "8b9de668",
   "metadata": {},
   "outputs": [
    {
     "name": "stdout",
     "output_type": "stream",
     "text": [
      "{0: 0, 1: 1, 2: 4, 3: 9, 4: 16}\n",
      "{16, 1, 4, 9}\n"
     ]
    }
   ],
   "source": [
    "# we can also similarly create dictionaries and sets\n",
    "\n",
    "square_dict = {x: x * x for x in range(5)}\n",
    "print(square_dict)\n",
    "\n",
    "square_set = {x * x for x in [1, -1 , 2 ,3 , -4]}\n",
    "print(square_set)"
   ]
  },
  {
   "cell_type": "code",
   "execution_count": 85,
   "id": "e87cf48e",
   "metadata": {},
   "outputs": [
    {
     "name": "stdout",
     "output_type": "stream",
     "text": [
      "[0, 0, 0]\n"
     ]
    }
   ],
   "source": [
    "#If we don't need the value from the list, it's common to use an underscore as a variable\n",
    "\n",
    "zeros = [0 for _ in even_numbers]\n",
    "print(zeros)"
   ]
  },
  {
   "cell_type": "markdown",
   "id": "b568a6fb",
   "metadata": {},
   "source": [
    "- __list comprehensions can also use multiple for loops.__"
   ]
  },
  {
   "cell_type": "code",
   "execution_count": 86,
   "id": "d8a13c72",
   "metadata": {},
   "outputs": [
    {
     "name": "stdout",
     "output_type": "stream",
     "text": [
      "[(0, 0), (0, 1), (0, 2), (0, 3), (0, 4), (0, 5), (0, 6), (0, 7), (0, 8), (0, 9), (1, 0), (1, 1), (1, 2), (1, 3), (1, 4), (1, 5), (1, 6), (1, 7), (1, 8), (1, 9), (2, 0), (2, 1), (2, 2), (2, 3), (2, 4), (2, 5), (2, 6), (2, 7), (2, 8), (2, 9), (3, 0), (3, 1), (3, 2), (3, 3), (3, 4), (3, 5), (3, 6), (3, 7), (3, 8), (3, 9), (4, 0), (4, 1), (4, 2), (4, 3), (4, 4), (4, 5), (4, 6), (4, 7), (4, 8), (4, 9), (5, 0), (5, 1), (5, 2), (5, 3), (5, 4), (5, 5), (5, 6), (5, 7), (5, 8), (5, 9), (6, 0), (6, 1), (6, 2), (6, 3), (6, 4), (6, 5), (6, 6), (6, 7), (6, 8), (6, 9), (7, 0), (7, 1), (7, 2), (7, 3), (7, 4), (7, 5), (7, 6), (7, 7), (7, 8), (7, 9), (8, 0), (8, 1), (8, 2), (8, 3), (8, 4), (8, 5), (8, 6), (8, 7), (8, 8), (8, 9), (9, 0), (9, 1), (9, 2), (9, 3), (9, 4), (9, 5), (9, 6), (9, 7), (9, 8), (9, 9)]\n"
     ]
    }
   ],
   "source": [
    "pairs = [(x,y)\n",
    "        for x in range(10)\n",
    "        for y in range(10)]\n",
    "print(pairs)"
   ]
  },
  {
   "cell_type": "code",
   "execution_count": 89,
   "id": "ef61fafb",
   "metadata": {},
   "outputs": [
    {
     "name": "stdout",
     "output_type": "stream",
     "text": [
      "[(0, 1), (0, 2), (0, 3), (0, 4), (0, 5), (0, 6), (0, 7), (0, 8), (0, 9), (1, 2), (1, 3), (1, 4), (1, 5), (1, 6), (1, 7), (1, 8), (1, 9), (2, 3), (2, 4), (2, 5), (2, 6), (2, 7), (2, 8), (2, 9), (3, 4), (3, 5), (3, 6), (3, 7), (3, 8), (3, 9), (4, 5), (4, 6), (4, 7), (4, 8), (4, 9), (5, 6), (5, 7), (5, 8), (5, 9), (6, 7), (6, 8), (6, 9), (7, 8), (7, 9), (8, 9)]\n"
     ]
    }
   ],
   "source": [
    "increasing_pairs = [(x,y)                               #only pairs with x<y\n",
    "                   for x in range(10)                   #range(low,high) equals (low,low+1, ....,hi-1)\n",
    "                   for y in range (x+1, 10)]\n",
    "print(increasing_pairs)"
   ]
  },
  {
   "cell_type": "markdown",
   "id": "586fac11",
   "metadata": {},
   "source": [
    "### Automated Testing and Assert\n",
    "\n",
    "- Python provides the assert statement to check if a given logical expression is True or False.\n",
    "- Porgram execution proceeds only if the expression is True and raises the AssertionError if is False."
   ]
  },
  {
   "cell_type": "markdown",
   "id": "59a53375",
   "metadata": {},
   "source": [
    "- There are many elaborate frameworks for writing and running test, but we will be mostly working with __*assert statements*__ which cause our code to raise an assertion error."
   ]
  },
  {
   "cell_type": "code",
   "execution_count": 92,
   "id": "629f71c8",
   "metadata": {},
   "outputs": [
    {
     "name": "stdout",
     "output_type": "stream",
     "text": [
      "Enter your number: 25\n",
      "The number is not even, Please enter even number.\n"
     ]
    }
   ],
   "source": [
    "#example\n",
    "\n",
    "try:\n",
    "    num = int(input(\"Enter your number: \"))\n",
    "    assert num%2==0\n",
    "    print(\"Number is even\")\n",
    "except AssertionError:\n",
    "    print(\"The number is not even, Please enter even number.\")"
   ]
  },
  {
   "cell_type": "code",
   "execution_count": 96,
   "id": "289a0f89",
   "metadata": {},
   "outputs": [],
   "source": [
    "def smallest_item(x):\n",
    "    return min(x)\n",
    "\n",
    "assert smallest_item([2, 3, 5, 6, 7]) == 2\n",
    "assert smallest_item([-4,-3,-4,-5,-6])"
   ]
  },
  {
   "cell_type": "code",
   "execution_count": 98,
   "id": "c91140d9",
   "metadata": {},
   "outputs": [],
   "source": [
    "def smallest_item(x):\n",
    "    assert x, \"empty list has no smallest item\"\n",
    "    return min(x)"
   ]
  },
  {
   "cell_type": "code",
   "execution_count": 101,
   "id": "7105e292",
   "metadata": {},
   "outputs": [
    {
     "data": {
      "text/plain": [
       "2"
      ]
     },
     "execution_count": 101,
     "metadata": {},
     "output_type": "execute_result"
    }
   ],
   "source": [
    "smallest_item([2,3,4,5])"
   ]
  },
  {
   "cell_type": "code",
   "execution_count": null,
   "id": "cd271c73",
   "metadata": {},
   "outputs": [],
   "source": []
  }
 ],
 "metadata": {
  "kernelspec": {
   "display_name": "Python 3 (ipykernel)",
   "language": "python",
   "name": "python3"
  },
  "language_info": {
   "codemirror_mode": {
    "name": "ipython",
    "version": 3
   },
   "file_extension": ".py",
   "mimetype": "text/x-python",
   "name": "python",
   "nbconvert_exporter": "python",
   "pygments_lexer": "ipython3",
   "version": "3.9.7"
  }
 },
 "nbformat": 4,
 "nbformat_minor": 5
}
